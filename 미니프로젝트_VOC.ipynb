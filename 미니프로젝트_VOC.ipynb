{
 "cells": [
  {
   "cell_type": "markdown",
   "metadata": {
    "id": "qOhFKC2QqhLh"
   },
   "source": [
    "### **VOC를 제기한 고객의 <span style=\"color:darkgreen\">해지 여부</span> 예측 문제**\n",
    "---"
   ]
  },
  {
   "cell_type": "markdown",
   "metadata": {
    "id": "7VBGLn-tqhLk",
    "tags": []
   },
   "source": [
    "* VOC를 제기한 고객의 데이터를 읽어들여 데이터를 분석 및 전처리한 후 머신러닝과 딥러닝으로 해지 여부를 예측하고 결과를 분석하세요."
   ]
  },
  {
   "cell_type": "markdown",
   "metadata": {
    "id": "g6HL0f0ZqhLk"
   },
   "source": [
    "#### **<span style=\"color:red\">[유의 사항]</span>**\n",
    "* 각 문항의 답안코드는 반드시 '#여기에 답안코드를 작성하세요'로 표시된 cell에 작성해야 합니다.\n",
    "* 제공된 cell을 추가/삭제하고 다른 cell에 답안코드를 작성 시 채점되지 않습니다.\n",
    "* 반드시 문제에 제시된 가이드를 읽고 답안 작성하세요.\n",
    "* 문제에 변수명이 제시된 경우 반드시 해당 변수명을 사용하세요.\n",
    "* 문제와 데이터는 제3자에게 공유하거나 개인적인 용도로 사용하는 등 외부로 유출할 수 없으며 유출로 인한 책임은 응시자 본인에게 있습니다."
   ]
  },
  {
   "cell_type": "code",
   "execution_count": 1,
   "metadata": {
    "executionInfo": {
     "elapsed": 1070,
     "status": "ok",
     "timestamp": 1731285684686,
     "user": {
      "displayName": "이예림 (겨울냥국)",
      "userId": "03592088159420229142"
     },
     "user_tz": -540
    },
    "id": "YyYO9fYEqhLl"
   },
   "outputs": [],
   "source": [
    "# 코드실행시 경고 메시지 무시\n",
    "import warnings\n",
    "warnings.filterwarnings(action='ignore')"
   ]
  },
  {
   "cell_type": "markdown",
   "metadata": {
    "id": "92-SEd2pqhLm"
   },
   "source": [
    "<br>"
   ]
  },
  {
   "cell_type": "markdown",
   "metadata": {
    "id": "XxICMB7NqhLn"
   },
   "source": [
    "## **<span style=\"color:black\">1. 필요한 라이브러리 설치</span>**"
   ]
  },
  {
   "cell_type": "markdown",
   "metadata": {
    "id": "R0nv7WSAqhLn"
   },
   "source": [
    "<Br>\n",
    "<font color=blue>1-1. pip 이용해서 seaborn을 설치하세요.</font>"
   ]
  },
  {
   "cell_type": "code",
   "execution_count": 2,
   "metadata": {
    "colab": {
     "base_uri": "https://localhost:8080/"
    },
    "executionInfo": {
     "elapsed": 5288,
     "status": "ok",
     "timestamp": 1731285748782,
     "user": {
      "displayName": "이예림 (겨울냥국)",
      "userId": "03592088159420229142"
     },
     "user_tz": -540
    },
    "id": "dkWuurnNqhLn",
    "outputId": "a880dc23-6299-48c0-f4d2-fce51cb839ce"
   },
   "outputs": [
    {
     "name": "stdout",
     "output_type": "stream",
     "text": [
      "Requirement already satisfied: seaborn in /usr/local/lib/python3.10/dist-packages (0.13.2)\n",
      "Requirement already satisfied: numpy!=1.24.0,>=1.20 in /usr/local/lib/python3.10/dist-packages (from seaborn) (1.26.4)\n",
      "Requirement already satisfied: pandas>=1.2 in /usr/local/lib/python3.10/dist-packages (from seaborn) (2.2.2)\n",
      "Requirement already satisfied: matplotlib!=3.6.1,>=3.4 in /usr/local/lib/python3.10/dist-packages (from seaborn) (3.8.0)\n",
      "Requirement already satisfied: contourpy>=1.0.1 in /usr/local/lib/python3.10/dist-packages (from matplotlib!=3.6.1,>=3.4->seaborn) (1.3.0)\n",
      "Requirement already satisfied: cycler>=0.10 in /usr/local/lib/python3.10/dist-packages (from matplotlib!=3.6.1,>=3.4->seaborn) (0.12.1)\n",
      "Requirement already satisfied: fonttools>=4.22.0 in /usr/local/lib/python3.10/dist-packages (from matplotlib!=3.6.1,>=3.4->seaborn) (4.54.1)\n",
      "Requirement already satisfied: kiwisolver>=1.0.1 in /usr/local/lib/python3.10/dist-packages (from matplotlib!=3.6.1,>=3.4->seaborn) (1.4.7)\n",
      "Requirement already satisfied: packaging>=20.0 in /usr/local/lib/python3.10/dist-packages (from matplotlib!=3.6.1,>=3.4->seaborn) (24.1)\n",
      "Requirement already satisfied: pillow>=6.2.0 in /usr/local/lib/python3.10/dist-packages (from matplotlib!=3.6.1,>=3.4->seaborn) (10.4.0)\n",
      "Requirement already satisfied: pyparsing>=2.3.1 in /usr/local/lib/python3.10/dist-packages (from matplotlib!=3.6.1,>=3.4->seaborn) (3.2.0)\n",
      "Requirement already satisfied: python-dateutil>=2.7 in /usr/local/lib/python3.10/dist-packages (from matplotlib!=3.6.1,>=3.4->seaborn) (2.8.2)\n",
      "Requirement already satisfied: pytz>=2020.1 in /usr/local/lib/python3.10/dist-packages (from pandas>=1.2->seaborn) (2024.2)\n",
      "Requirement already satisfied: tzdata>=2022.7 in /usr/local/lib/python3.10/dist-packages (from pandas>=1.2->seaborn) (2024.2)\n",
      "Requirement already satisfied: six>=1.5 in /usr/local/lib/python3.10/dist-packages (from python-dateutil>=2.7->matplotlib!=3.6.1,>=3.4->seaborn) (1.16.0)\n"
     ]
    }
   ],
   "source": [
    "# 여기에 답안코드를 작성하세요.\n",
    "\n",
    "!pip install seaborn\n"
   ]
  },
  {
   "cell_type": "markdown",
   "metadata": {
    "id": "-5YqLBJXqhLn"
   },
   "source": [
    "<br>\n",
    "<font color=blue>1-2. numpy 별칭을 np로, pandas 별칭을 pd로 해서 임포트 하세요</font>"
   ]
  },
  {
   "cell_type": "code",
   "execution_count": 3,
   "metadata": {
    "executionInfo": {
     "elapsed": 1474,
     "status": "ok",
     "timestamp": 1731285766773,
     "user": {
      "displayName": "이예림 (겨울냥국)",
      "userId": "03592088159420229142"
     },
     "user_tz": -540
    },
    "id": "OxyuhP0wqhLo"
   },
   "outputs": [],
   "source": [
    "# 여기에 답안코드를 작성하세요.\n",
    "import numpy as np\n",
    "import pandas as pd\n",
    "\n"
   ]
  },
  {
   "cell_type": "markdown",
   "metadata": {
    "id": "6QCLEf7KqhLo"
   },
   "source": [
    "<br>\n",
    "<font color=blue>1-3. matplotlib 라이브러리를 plt로, seaborn을 sns로 해서 임포트 하세요"
   ]
  },
  {
   "cell_type": "code",
   "execution_count": 4,
   "metadata": {
    "executionInfo": {
     "elapsed": 4313,
     "status": "ok",
     "timestamp": 1731285785030,
     "user": {
      "displayName": "이예림 (겨울냥국)",
      "userId": "03592088159420229142"
     },
     "user_tz": -540
    },
    "id": "6TJWK18lqhLo"
   },
   "outputs": [],
   "source": [
    "# 여기에 답안코드를 작성하세요.\n",
    "import matplotlib.pyplot as plt\n",
    "import seaborn as sns\n",
    "\n"
   ]
  },
  {
   "cell_type": "markdown",
   "metadata": {
    "id": "8RyF-QgYqhLo"
   },
   "source": [
    "<br>"
   ]
  },
  {
   "cell_type": "markdown",
   "metadata": {
    "id": "GbjKEvbGqhLo"
   },
   "source": [
    "## **<span style=\"color:black\">2. Tabular 데이터 로딩</span>**"
   ]
  },
  {
   "cell_type": "markdown",
   "metadata": {
    "id": "b03UAgDBqhLo"
   },
   "source": [
    "<br>\n",
    "<font color=blue>2-1. pandas read_csv 함수를 사용하여 voc_data.csv 파일을 읽어온 후 df에 저장하세요.</font>"
   ]
  },
  {
   "cell_type": "code",
   "execution_count": 10,
   "metadata": {
    "colab": {
     "base_uri": "https://localhost:8080/"
    },
    "executionInfo": {
     "elapsed": 2573,
     "status": "ok",
     "timestamp": 1731285905159,
     "user": {
      "displayName": "이예림 (겨울냥국)",
      "userId": "03592088159420229142"
     },
     "user_tz": -540
    },
    "id": "gJ12P3sNqhLo",
    "outputId": "021735f2-208f-44fb-f376-45fbe8bbb70b"
   },
   "outputs": [
    {
     "name": "stdout",
     "output_type": "stream",
     "text": [
      "Drive already mounted at /content/drive; to attempt to forcibly remount, call drive.mount(\"/content/drive\", force_remount=True).\n"
     ]
    }
   ],
   "source": [
    "# 여기에 답안코드를 작성하세요.\n",
    "import pandas as pd\n",
    "from google.colab import drive\n",
    "drive.mount('/content/drive')\n",
    "\n",
    "df = pd.read_csv('/content/drive/MyDrive/project5/voc_data.csv')\n",
    "\n"
   ]
  },
  {
   "cell_type": "markdown",
   "metadata": {
    "id": "WZ9EDgOaqhLp"
   },
   "source": [
    "<br>"
   ]
  },
  {
   "cell_type": "markdown",
   "metadata": {
    "id": "3dekEhgdqhLp"
   },
   "source": [
    "## **<span style=\"color:black\">3. 데이터의 구성 확인</span>**"
   ]
  },
  {
   "cell_type": "markdown",
   "metadata": {
    "id": "rCoAuVLpqhLp"
   },
   "source": [
    "<br>\n",
    "<font color=blue>3-1. \"df\" DataFrame 이용해서 읽어들인 파일의 앞부분 5줄, 뒷부분 5줄을 출력하세요</font>"
   ]
  },
  {
   "cell_type": "code",
   "execution_count": 13,
   "metadata": {
    "colab": {
     "base_uri": "https://localhost:8080/",
     "height": 256
    },
    "executionInfo": {
     "elapsed": 339,
     "status": "ok",
     "timestamp": 1731285959446,
     "user": {
      "displayName": "이예림 (겨울냥국)",
      "userId": "03592088159420229142"
     },
     "user_tz": -540
    },
    "id": "3ij2WkTFqhLp",
    "outputId": "b347ac3e-fc99-49d6-da75-04d1d1341355"
   },
   "outputs": [
    {
     "data": {
      "application/vnd.google.colaboratory.intrinsic+json": {
       "type": "dataframe",
       "variable_name": "df"
      },
      "text/html": [
       "\n",
       "  <div id=\"df-b3baead0-ffd3-4880-a36b-367fe9c1df1f\" class=\"colab-df-container\">\n",
       "    <div>\n",
       "<style scoped>\n",
       "    .dataframe tbody tr th:only-of-type {\n",
       "        vertical-align: middle;\n",
       "    }\n",
       "\n",
       "    .dataframe tbody tr th {\n",
       "        vertical-align: top;\n",
       "    }\n",
       "\n",
       "    .dataframe thead th {\n",
       "        text-align: right;\n",
       "    }\n",
       "</style>\n",
       "<table border=\"1\" class=\"dataframe\">\n",
       "  <thead>\n",
       "    <tr style=\"text-align: right;\">\n",
       "      <th></th>\n",
       "      <th>voc_trt_perd_itg_cd</th>\n",
       "      <th>voc_prod_sbt_id</th>\n",
       "      <th>voc_wjt_sorc_id</th>\n",
       "      <th>voc_type_itg_cd</th>\n",
       "      <th>voc_sttus_itg_cd</th>\n",
       "      <th>voc_trt_reslt_itg_cd</th>\n",
       "      <th>cust_clas_itg_cd</th>\n",
       "      <th>bprod_sbt_id</th>\n",
       "      <th>age_itg_cd</th>\n",
       "      <th>cont_sttus_itg_cd</th>\n",
       "      <th>...</th>\n",
       "      <th>voc_dupl_tmscnt</th>\n",
       "      <th>oos_cause_type_itg_cd</th>\n",
       "      <th>voc_trt_need_time_itg_cd</th>\n",
       "      <th>engt_cperd_type_itg_cd</th>\n",
       "      <th>engt_tgt_div_itg_cd</th>\n",
       "      <th>cont_fns_pam_date</th>\n",
       "      <th>voc_mis_pbls_yn</th>\n",
       "      <th>fclt_oos_yn</th>\n",
       "      <th>cust_snsry_base_conf_need_time</th>\n",
       "      <th>trm_yn</th>\n",
       "    </tr>\n",
       "  </thead>\n",
       "  <tbody>\n",
       "    <tr>\n",
       "      <th>0</th>\n",
       "      <td>_</td>\n",
       "      <td>1000665328</td>\n",
       "      <td>2153</td>\n",
       "      <td>10009</td>\n",
       "      <td>10002</td>\n",
       "      <td>_</td>\n",
       "      <td>F</td>\n",
       "      <td>1000001126</td>\n",
       "      <td>36</td>\n",
       "      <td>10001</td>\n",
       "      <td>...</td>\n",
       "      <td>0</td>\n",
       "      <td>_</td>\n",
       "      <td>10001</td>\n",
       "      <td>_</td>\n",
       "      <td>_</td>\n",
       "      <td>99991231</td>\n",
       "      <td>N</td>\n",
       "      <td>_</td>\n",
       "      <td>0</td>\n",
       "      <td>N</td>\n",
       "    </tr>\n",
       "    <tr>\n",
       "      <th>1</th>\n",
       "      <td>_</td>\n",
       "      <td>1001028714</td>\n",
       "      <td>3311</td>\n",
       "      <td>10009</td>\n",
       "      <td>10002</td>\n",
       "      <td>10081</td>\n",
       "      <td>G</td>\n",
       "      <td>1000852226</td>\n",
       "      <td>32</td>\n",
       "      <td>10001</td>\n",
       "      <td>...</td>\n",
       "      <td>0</td>\n",
       "      <td>_</td>\n",
       "      <td>10001</td>\n",
       "      <td>15098</td>\n",
       "      <td>15244</td>\n",
       "      <td>20220319</td>\n",
       "      <td>N</td>\n",
       "      <td>_</td>\n",
       "      <td>0</td>\n",
       "      <td>N</td>\n",
       "    </tr>\n",
       "    <tr>\n",
       "      <th>2</th>\n",
       "      <td>_</td>\n",
       "      <td>1001028567</td>\n",
       "      <td>1575</td>\n",
       "      <td>10009</td>\n",
       "      <td>10002</td>\n",
       "      <td>_</td>\n",
       "      <td>G</td>\n",
       "      <td>1000851875</td>\n",
       "      <td>52</td>\n",
       "      <td>10001</td>\n",
       "      <td>...</td>\n",
       "      <td>0</td>\n",
       "      <td>10268</td>\n",
       "      <td>10001</td>\n",
       "      <td>15097</td>\n",
       "      <td>15244</td>\n",
       "      <td>20220508</td>\n",
       "      <td>N</td>\n",
       "      <td>N</td>\n",
       "      <td>0</td>\n",
       "      <td>N</td>\n",
       "    </tr>\n",
       "    <tr>\n",
       "      <th>3</th>\n",
       "      <td>10000</td>\n",
       "      <td>1000665328</td>\n",
       "      <td>3546</td>\n",
       "      <td>10009</td>\n",
       "      <td>10002</td>\n",
       "      <td>_</td>\n",
       "      <td>_</td>\n",
       "      <td>1000001126</td>\n",
       "      <td>_</td>\n",
       "      <td>10001</td>\n",
       "      <td>...</td>\n",
       "      <td>0</td>\n",
       "      <td>_</td>\n",
       "      <td>10001</td>\n",
       "      <td>_</td>\n",
       "      <td>_</td>\n",
       "      <td>99991231</td>\n",
       "      <td>N</td>\n",
       "      <td>_</td>\n",
       "      <td>0</td>\n",
       "      <td>N</td>\n",
       "    </tr>\n",
       "    <tr>\n",
       "      <th>4</th>\n",
       "      <td>_</td>\n",
       "      <td>1000779276</td>\n",
       "      <td>3086</td>\n",
       "      <td>10009</td>\n",
       "      <td>10002</td>\n",
       "      <td>_</td>\n",
       "      <td>G</td>\n",
       "      <td>1000764639</td>\n",
       "      <td>50</td>\n",
       "      <td>10001</td>\n",
       "      <td>...</td>\n",
       "      <td>0</td>\n",
       "      <td>_</td>\n",
       "      <td>10001</td>\n",
       "      <td>_</td>\n",
       "      <td>_</td>\n",
       "      <td>99991231</td>\n",
       "      <td>N</td>\n",
       "      <td>_</td>\n",
       "      <td>0</td>\n",
       "      <td>N</td>\n",
       "    </tr>\n",
       "  </tbody>\n",
       "</table>\n",
       "<p>5 rows × 24 columns</p>\n",
       "</div>\n",
       "    <div class=\"colab-df-buttons\">\n",
       "\n",
       "  <div class=\"colab-df-container\">\n",
       "    <button class=\"colab-df-convert\" onclick=\"convertToInteractive('df-b3baead0-ffd3-4880-a36b-367fe9c1df1f')\"\n",
       "            title=\"Convert this dataframe to an interactive table.\"\n",
       "            style=\"display:none;\">\n",
       "\n",
       "  <svg xmlns=\"http://www.w3.org/2000/svg\" height=\"24px\" viewBox=\"0 -960 960 960\">\n",
       "    <path d=\"M120-120v-720h720v720H120Zm60-500h600v-160H180v160Zm220 220h160v-160H400v160Zm0 220h160v-160H400v160ZM180-400h160v-160H180v160Zm440 0h160v-160H620v160ZM180-180h160v-160H180v160Zm440 0h160v-160H620v160Z\"/>\n",
       "  </svg>\n",
       "    </button>\n",
       "\n",
       "  <style>\n",
       "    .colab-df-container {\n",
       "      display:flex;\n",
       "      gap: 12px;\n",
       "    }\n",
       "\n",
       "    .colab-df-convert {\n",
       "      background-color: #E8F0FE;\n",
       "      border: none;\n",
       "      border-radius: 50%;\n",
       "      cursor: pointer;\n",
       "      display: none;\n",
       "      fill: #1967D2;\n",
       "      height: 32px;\n",
       "      padding: 0 0 0 0;\n",
       "      width: 32px;\n",
       "    }\n",
       "\n",
       "    .colab-df-convert:hover {\n",
       "      background-color: #E2EBFA;\n",
       "      box-shadow: 0px 1px 2px rgba(60, 64, 67, 0.3), 0px 1px 3px 1px rgba(60, 64, 67, 0.15);\n",
       "      fill: #174EA6;\n",
       "    }\n",
       "\n",
       "    .colab-df-buttons div {\n",
       "      margin-bottom: 4px;\n",
       "    }\n",
       "\n",
       "    [theme=dark] .colab-df-convert {\n",
       "      background-color: #3B4455;\n",
       "      fill: #D2E3FC;\n",
       "    }\n",
       "\n",
       "    [theme=dark] .colab-df-convert:hover {\n",
       "      background-color: #434B5C;\n",
       "      box-shadow: 0px 1px 3px 1px rgba(0, 0, 0, 0.15);\n",
       "      filter: drop-shadow(0px 1px 2px rgba(0, 0, 0, 0.3));\n",
       "      fill: #FFFFFF;\n",
       "    }\n",
       "  </style>\n",
       "\n",
       "    <script>\n",
       "      const buttonEl =\n",
       "        document.querySelector('#df-b3baead0-ffd3-4880-a36b-367fe9c1df1f button.colab-df-convert');\n",
       "      buttonEl.style.display =\n",
       "        google.colab.kernel.accessAllowed ? 'block' : 'none';\n",
       "\n",
       "      async function convertToInteractive(key) {\n",
       "        const element = document.querySelector('#df-b3baead0-ffd3-4880-a36b-367fe9c1df1f');\n",
       "        const dataTable =\n",
       "          await google.colab.kernel.invokeFunction('convertToInteractive',\n",
       "                                                    [key], {});\n",
       "        if (!dataTable) return;\n",
       "\n",
       "        const docLinkHtml = 'Like what you see? Visit the ' +\n",
       "          '<a target=\"_blank\" href=https://colab.research.google.com/notebooks/data_table.ipynb>data table notebook</a>'\n",
       "          + ' to learn more about interactive tables.';\n",
       "        element.innerHTML = '';\n",
       "        dataTable['output_type'] = 'display_data';\n",
       "        await google.colab.output.renderOutput(dataTable, element);\n",
       "        const docLink = document.createElement('div');\n",
       "        docLink.innerHTML = docLinkHtml;\n",
       "        element.appendChild(docLink);\n",
       "      }\n",
       "    </script>\n",
       "  </div>\n",
       "\n",
       "\n",
       "<div id=\"df-1c16d495-bc8c-4eb1-bb99-05ff21094dcd\">\n",
       "  <button class=\"colab-df-quickchart\" onclick=\"quickchart('df-1c16d495-bc8c-4eb1-bb99-05ff21094dcd')\"\n",
       "            title=\"Suggest charts\"\n",
       "            style=\"display:none;\">\n",
       "\n",
       "<svg xmlns=\"http://www.w3.org/2000/svg\" height=\"24px\"viewBox=\"0 0 24 24\"\n",
       "     width=\"24px\">\n",
       "    <g>\n",
       "        <path d=\"M19 3H5c-1.1 0-2 .9-2 2v14c0 1.1.9 2 2 2h14c1.1 0 2-.9 2-2V5c0-1.1-.9-2-2-2zM9 17H7v-7h2v7zm4 0h-2V7h2v10zm4 0h-2v-4h2v4z\"/>\n",
       "    </g>\n",
       "</svg>\n",
       "  </button>\n",
       "\n",
       "<style>\n",
       "  .colab-df-quickchart {\n",
       "      --bg-color: #E8F0FE;\n",
       "      --fill-color: #1967D2;\n",
       "      --hover-bg-color: #E2EBFA;\n",
       "      --hover-fill-color: #174EA6;\n",
       "      --disabled-fill-color: #AAA;\n",
       "      --disabled-bg-color: #DDD;\n",
       "  }\n",
       "\n",
       "  [theme=dark] .colab-df-quickchart {\n",
       "      --bg-color: #3B4455;\n",
       "      --fill-color: #D2E3FC;\n",
       "      --hover-bg-color: #434B5C;\n",
       "      --hover-fill-color: #FFFFFF;\n",
       "      --disabled-bg-color: #3B4455;\n",
       "      --disabled-fill-color: #666;\n",
       "  }\n",
       "\n",
       "  .colab-df-quickchart {\n",
       "    background-color: var(--bg-color);\n",
       "    border: none;\n",
       "    border-radius: 50%;\n",
       "    cursor: pointer;\n",
       "    display: none;\n",
       "    fill: var(--fill-color);\n",
       "    height: 32px;\n",
       "    padding: 0;\n",
       "    width: 32px;\n",
       "  }\n",
       "\n",
       "  .colab-df-quickchart:hover {\n",
       "    background-color: var(--hover-bg-color);\n",
       "    box-shadow: 0 1px 2px rgba(60, 64, 67, 0.3), 0 1px 3px 1px rgba(60, 64, 67, 0.15);\n",
       "    fill: var(--button-hover-fill-color);\n",
       "  }\n",
       "\n",
       "  .colab-df-quickchart-complete:disabled,\n",
       "  .colab-df-quickchart-complete:disabled:hover {\n",
       "    background-color: var(--disabled-bg-color);\n",
       "    fill: var(--disabled-fill-color);\n",
       "    box-shadow: none;\n",
       "  }\n",
       "\n",
       "  .colab-df-spinner {\n",
       "    border: 2px solid var(--fill-color);\n",
       "    border-color: transparent;\n",
       "    border-bottom-color: var(--fill-color);\n",
       "    animation:\n",
       "      spin 1s steps(1) infinite;\n",
       "  }\n",
       "\n",
       "  @keyframes spin {\n",
       "    0% {\n",
       "      border-color: transparent;\n",
       "      border-bottom-color: var(--fill-color);\n",
       "      border-left-color: var(--fill-color);\n",
       "    }\n",
       "    20% {\n",
       "      border-color: transparent;\n",
       "      border-left-color: var(--fill-color);\n",
       "      border-top-color: var(--fill-color);\n",
       "    }\n",
       "    30% {\n",
       "      border-color: transparent;\n",
       "      border-left-color: var(--fill-color);\n",
       "      border-top-color: var(--fill-color);\n",
       "      border-right-color: var(--fill-color);\n",
       "    }\n",
       "    40% {\n",
       "      border-color: transparent;\n",
       "      border-right-color: var(--fill-color);\n",
       "      border-top-color: var(--fill-color);\n",
       "    }\n",
       "    60% {\n",
       "      border-color: transparent;\n",
       "      border-right-color: var(--fill-color);\n",
       "    }\n",
       "    80% {\n",
       "      border-color: transparent;\n",
       "      border-right-color: var(--fill-color);\n",
       "      border-bottom-color: var(--fill-color);\n",
       "    }\n",
       "    90% {\n",
       "      border-color: transparent;\n",
       "      border-bottom-color: var(--fill-color);\n",
       "    }\n",
       "  }\n",
       "</style>\n",
       "\n",
       "  <script>\n",
       "    async function quickchart(key) {\n",
       "      const quickchartButtonEl =\n",
       "        document.querySelector('#' + key + ' button');\n",
       "      quickchartButtonEl.disabled = true;  // To prevent multiple clicks.\n",
       "      quickchartButtonEl.classList.add('colab-df-spinner');\n",
       "      try {\n",
       "        const charts = await google.colab.kernel.invokeFunction(\n",
       "            'suggestCharts', [key], {});\n",
       "      } catch (error) {\n",
       "        console.error('Error during call to suggestCharts:', error);\n",
       "      }\n",
       "      quickchartButtonEl.classList.remove('colab-df-spinner');\n",
       "      quickchartButtonEl.classList.add('colab-df-quickchart-complete');\n",
       "    }\n",
       "    (() => {\n",
       "      let quickchartButtonEl =\n",
       "        document.querySelector('#df-1c16d495-bc8c-4eb1-bb99-05ff21094dcd button');\n",
       "      quickchartButtonEl.style.display =\n",
       "        google.colab.kernel.accessAllowed ? 'block' : 'none';\n",
       "    })();\n",
       "  </script>\n",
       "</div>\n",
       "\n",
       "    </div>\n",
       "  </div>\n"
      ],
      "text/plain": [
       "  voc_trt_perd_itg_cd  voc_prod_sbt_id  voc_wjt_sorc_id  voc_type_itg_cd  \\\n",
       "0                   _       1000665328             2153            10009   \n",
       "1                   _       1001028714             3311            10009   \n",
       "2                   _       1001028567             1575            10009   \n",
       "3               10000       1000665328             3546            10009   \n",
       "4                   _       1000779276             3086            10009   \n",
       "\n",
       "   voc_sttus_itg_cd voc_trt_reslt_itg_cd cust_clas_itg_cd  bprod_sbt_id  \\\n",
       "0             10002                    _                F    1000001126   \n",
       "1             10002                10081                G    1000852226   \n",
       "2             10002                    _                G    1000851875   \n",
       "3             10002                    _                _    1000001126   \n",
       "4             10002                    _                G    1000764639   \n",
       "\n",
       "  age_itg_cd cont_sttus_itg_cd  ...  voc_dupl_tmscnt  oos_cause_type_itg_cd  \\\n",
       "0         36             10001  ...                0                      _   \n",
       "1         32             10001  ...                0                      _   \n",
       "2         52             10001  ...                0                  10268   \n",
       "3          _             10001  ...                0                      _   \n",
       "4         50             10001  ...                0                      _   \n",
       "\n",
       "  voc_trt_need_time_itg_cd  engt_cperd_type_itg_cd  engt_tgt_div_itg_cd  \\\n",
       "0                    10001                       _                    _   \n",
       "1                    10001                   15098                15244   \n",
       "2                    10001                   15097                15244   \n",
       "3                    10001                       _                    _   \n",
       "4                    10001                       _                    _   \n",
       "\n",
       "  cont_fns_pam_date  voc_mis_pbls_yn fclt_oos_yn  \\\n",
       "0          99991231                N           _   \n",
       "1          20220319                N           _   \n",
       "2          20220508                N           N   \n",
       "3          99991231                N           _   \n",
       "4          99991231                N           _   \n",
       "\n",
       "  cust_snsry_base_conf_need_time  trm_yn  \n",
       "0                              0       N  \n",
       "1                              0       N  \n",
       "2                              0       N  \n",
       "3                              0       N  \n",
       "4                              0       N  \n",
       "\n",
       "[5 rows x 24 columns]"
      ]
     },
     "execution_count": 13,
     "metadata": {},
     "output_type": "execute_result"
    }
   ],
   "source": [
    "# 여기에 답안코드를 작성하세요.\n",
    "df.head()\n"
   ]
  },
  {
   "cell_type": "code",
   "execution_count": 14,
   "metadata": {
    "colab": {
     "base_uri": "https://localhost:8080/",
     "height": 256
    },
    "executionInfo": {
     "elapsed": 348,
     "status": "ok",
     "timestamp": 1731285966168,
     "user": {
      "displayName": "이예림 (겨울냥국)",
      "userId": "03592088159420229142"
     },
     "user_tz": -540
    },
    "id": "7R42pqunqhLp",
    "outputId": "703e9832-56c3-4b96-95fd-c2df6dfef470"
   },
   "outputs": [
    {
     "data": {
      "application/vnd.google.colaboratory.intrinsic+json": {
       "type": "dataframe"
      },
      "text/html": [
       "\n",
       "  <div id=\"df-df2158d6-2308-4931-a615-35e5f0cb320b\" class=\"colab-df-container\">\n",
       "    <div>\n",
       "<style scoped>\n",
       "    .dataframe tbody tr th:only-of-type {\n",
       "        vertical-align: middle;\n",
       "    }\n",
       "\n",
       "    .dataframe tbody tr th {\n",
       "        vertical-align: top;\n",
       "    }\n",
       "\n",
       "    .dataframe thead th {\n",
       "        text-align: right;\n",
       "    }\n",
       "</style>\n",
       "<table border=\"1\" class=\"dataframe\">\n",
       "  <thead>\n",
       "    <tr style=\"text-align: right;\">\n",
       "      <th></th>\n",
       "      <th>voc_trt_perd_itg_cd</th>\n",
       "      <th>voc_prod_sbt_id</th>\n",
       "      <th>voc_wjt_sorc_id</th>\n",
       "      <th>voc_type_itg_cd</th>\n",
       "      <th>voc_sttus_itg_cd</th>\n",
       "      <th>voc_trt_reslt_itg_cd</th>\n",
       "      <th>cust_clas_itg_cd</th>\n",
       "      <th>bprod_sbt_id</th>\n",
       "      <th>age_itg_cd</th>\n",
       "      <th>cont_sttus_itg_cd</th>\n",
       "      <th>...</th>\n",
       "      <th>voc_dupl_tmscnt</th>\n",
       "      <th>oos_cause_type_itg_cd</th>\n",
       "      <th>voc_trt_need_time_itg_cd</th>\n",
       "      <th>engt_cperd_type_itg_cd</th>\n",
       "      <th>engt_tgt_div_itg_cd</th>\n",
       "      <th>cont_fns_pam_date</th>\n",
       "      <th>voc_mis_pbls_yn</th>\n",
       "      <th>fclt_oos_yn</th>\n",
       "      <th>cust_snsry_base_conf_need_time</th>\n",
       "      <th>trm_yn</th>\n",
       "    </tr>\n",
       "  </thead>\n",
       "  <tbody>\n",
       "    <tr>\n",
       "      <th>9995</th>\n",
       "      <td>_</td>\n",
       "      <td>1000811136</td>\n",
       "      <td>2123</td>\n",
       "      <td>10009</td>\n",
       "      <td>10002</td>\n",
       "      <td>_</td>\n",
       "      <td>G</td>\n",
       "      <td>1000809259</td>\n",
       "      <td>17</td>\n",
       "      <td>10001</td>\n",
       "      <td>...</td>\n",
       "      <td>0</td>\n",
       "      <td>_</td>\n",
       "      <td>10001</td>\n",
       "      <td>_</td>\n",
       "      <td>_</td>\n",
       "      <td>99991231</td>\n",
       "      <td>N</td>\n",
       "      <td>_</td>\n",
       "      <td>0</td>\n",
       "      <td>N</td>\n",
       "    </tr>\n",
       "    <tr>\n",
       "      <th>9996</th>\n",
       "      <td>_</td>\n",
       "      <td>1001047799</td>\n",
       "      <td>2153</td>\n",
       "      <td>10009</td>\n",
       "      <td>10002</td>\n",
       "      <td>_</td>\n",
       "      <td>I</td>\n",
       "      <td>1001046521</td>\n",
       "      <td>35</td>\n",
       "      <td>10001</td>\n",
       "      <td>...</td>\n",
       "      <td>0</td>\n",
       "      <td>_</td>\n",
       "      <td>10001</td>\n",
       "      <td>_</td>\n",
       "      <td>_</td>\n",
       "      <td>99991231</td>\n",
       "      <td>N</td>\n",
       "      <td>_</td>\n",
       "      <td>0</td>\n",
       "      <td>N</td>\n",
       "    </tr>\n",
       "    <tr>\n",
       "      <th>9997</th>\n",
       "      <td>_</td>\n",
       "      <td>1001027819</td>\n",
       "      <td>379</td>\n",
       "      <td>10009</td>\n",
       "      <td>10002</td>\n",
       "      <td>_</td>\n",
       "      <td>G</td>\n",
       "      <td>1000720809</td>\n",
       "      <td>51</td>\n",
       "      <td>10001</td>\n",
       "      <td>...</td>\n",
       "      <td>0</td>\n",
       "      <td>10270</td>\n",
       "      <td>10001</td>\n",
       "      <td>15097</td>\n",
       "      <td>15244</td>\n",
       "      <td>20180903</td>\n",
       "      <td>N</td>\n",
       "      <td>N</td>\n",
       "      <td>0</td>\n",
       "      <td>N</td>\n",
       "    </tr>\n",
       "    <tr>\n",
       "      <th>9998</th>\n",
       "      <td>_</td>\n",
       "      <td>1001027819</td>\n",
       "      <td>314</td>\n",
       "      <td>10009</td>\n",
       "      <td>10002</td>\n",
       "      <td>_</td>\n",
       "      <td>I</td>\n",
       "      <td>1000720809</td>\n",
       "      <td>_</td>\n",
       "      <td>10001</td>\n",
       "      <td>...</td>\n",
       "      <td>0</td>\n",
       "      <td>_</td>\n",
       "      <td>10001</td>\n",
       "      <td>15097</td>\n",
       "      <td>15244</td>\n",
       "      <td>20210412</td>\n",
       "      <td>N</td>\n",
       "      <td>_</td>\n",
       "      <td>0</td>\n",
       "      <td>N</td>\n",
       "    </tr>\n",
       "    <tr>\n",
       "      <th>9999</th>\n",
       "      <td>_</td>\n",
       "      <td>1001047802</td>\n",
       "      <td>2266</td>\n",
       "      <td>10009</td>\n",
       "      <td>10002</td>\n",
       "      <td>_</td>\n",
       "      <td>G</td>\n",
       "      <td>1001046524</td>\n",
       "      <td>27</td>\n",
       "      <td>10001</td>\n",
       "      <td>...</td>\n",
       "      <td>0</td>\n",
       "      <td>_</td>\n",
       "      <td>10001</td>\n",
       "      <td>_</td>\n",
       "      <td>_</td>\n",
       "      <td>99991231</td>\n",
       "      <td>N</td>\n",
       "      <td>_</td>\n",
       "      <td>0</td>\n",
       "      <td>N</td>\n",
       "    </tr>\n",
       "  </tbody>\n",
       "</table>\n",
       "<p>5 rows × 24 columns</p>\n",
       "</div>\n",
       "    <div class=\"colab-df-buttons\">\n",
       "\n",
       "  <div class=\"colab-df-container\">\n",
       "    <button class=\"colab-df-convert\" onclick=\"convertToInteractive('df-df2158d6-2308-4931-a615-35e5f0cb320b')\"\n",
       "            title=\"Convert this dataframe to an interactive table.\"\n",
       "            style=\"display:none;\">\n",
       "\n",
       "  <svg xmlns=\"http://www.w3.org/2000/svg\" height=\"24px\" viewBox=\"0 -960 960 960\">\n",
       "    <path d=\"M120-120v-720h720v720H120Zm60-500h600v-160H180v160Zm220 220h160v-160H400v160Zm0 220h160v-160H400v160ZM180-400h160v-160H180v160Zm440 0h160v-160H620v160ZM180-180h160v-160H180v160Zm440 0h160v-160H620v160Z\"/>\n",
       "  </svg>\n",
       "    </button>\n",
       "\n",
       "  <style>\n",
       "    .colab-df-container {\n",
       "      display:flex;\n",
       "      gap: 12px;\n",
       "    }\n",
       "\n",
       "    .colab-df-convert {\n",
       "      background-color: #E8F0FE;\n",
       "      border: none;\n",
       "      border-radius: 50%;\n",
       "      cursor: pointer;\n",
       "      display: none;\n",
       "      fill: #1967D2;\n",
       "      height: 32px;\n",
       "      padding: 0 0 0 0;\n",
       "      width: 32px;\n",
       "    }\n",
       "\n",
       "    .colab-df-convert:hover {\n",
       "      background-color: #E2EBFA;\n",
       "      box-shadow: 0px 1px 2px rgba(60, 64, 67, 0.3), 0px 1px 3px 1px rgba(60, 64, 67, 0.15);\n",
       "      fill: #174EA6;\n",
       "    }\n",
       "\n",
       "    .colab-df-buttons div {\n",
       "      margin-bottom: 4px;\n",
       "    }\n",
       "\n",
       "    [theme=dark] .colab-df-convert {\n",
       "      background-color: #3B4455;\n",
       "      fill: #D2E3FC;\n",
       "    }\n",
       "\n",
       "    [theme=dark] .colab-df-convert:hover {\n",
       "      background-color: #434B5C;\n",
       "      box-shadow: 0px 1px 3px 1px rgba(0, 0, 0, 0.15);\n",
       "      filter: drop-shadow(0px 1px 2px rgba(0, 0, 0, 0.3));\n",
       "      fill: #FFFFFF;\n",
       "    }\n",
       "  </style>\n",
       "\n",
       "    <script>\n",
       "      const buttonEl =\n",
       "        document.querySelector('#df-df2158d6-2308-4931-a615-35e5f0cb320b button.colab-df-convert');\n",
       "      buttonEl.style.display =\n",
       "        google.colab.kernel.accessAllowed ? 'block' : 'none';\n",
       "\n",
       "      async function convertToInteractive(key) {\n",
       "        const element = document.querySelector('#df-df2158d6-2308-4931-a615-35e5f0cb320b');\n",
       "        const dataTable =\n",
       "          await google.colab.kernel.invokeFunction('convertToInteractive',\n",
       "                                                    [key], {});\n",
       "        if (!dataTable) return;\n",
       "\n",
       "        const docLinkHtml = 'Like what you see? Visit the ' +\n",
       "          '<a target=\"_blank\" href=https://colab.research.google.com/notebooks/data_table.ipynb>data table notebook</a>'\n",
       "          + ' to learn more about interactive tables.';\n",
       "        element.innerHTML = '';\n",
       "        dataTable['output_type'] = 'display_data';\n",
       "        await google.colab.output.renderOutput(dataTable, element);\n",
       "        const docLink = document.createElement('div');\n",
       "        docLink.innerHTML = docLinkHtml;\n",
       "        element.appendChild(docLink);\n",
       "      }\n",
       "    </script>\n",
       "  </div>\n",
       "\n",
       "\n",
       "<div id=\"df-1f56989c-9bb2-4a6d-8110-b5302c19de74\">\n",
       "  <button class=\"colab-df-quickchart\" onclick=\"quickchart('df-1f56989c-9bb2-4a6d-8110-b5302c19de74')\"\n",
       "            title=\"Suggest charts\"\n",
       "            style=\"display:none;\">\n",
       "\n",
       "<svg xmlns=\"http://www.w3.org/2000/svg\" height=\"24px\"viewBox=\"0 0 24 24\"\n",
       "     width=\"24px\">\n",
       "    <g>\n",
       "        <path d=\"M19 3H5c-1.1 0-2 .9-2 2v14c0 1.1.9 2 2 2h14c1.1 0 2-.9 2-2V5c0-1.1-.9-2-2-2zM9 17H7v-7h2v7zm4 0h-2V7h2v10zm4 0h-2v-4h2v4z\"/>\n",
       "    </g>\n",
       "</svg>\n",
       "  </button>\n",
       "\n",
       "<style>\n",
       "  .colab-df-quickchart {\n",
       "      --bg-color: #E8F0FE;\n",
       "      --fill-color: #1967D2;\n",
       "      --hover-bg-color: #E2EBFA;\n",
       "      --hover-fill-color: #174EA6;\n",
       "      --disabled-fill-color: #AAA;\n",
       "      --disabled-bg-color: #DDD;\n",
       "  }\n",
       "\n",
       "  [theme=dark] .colab-df-quickchart {\n",
       "      --bg-color: #3B4455;\n",
       "      --fill-color: #D2E3FC;\n",
       "      --hover-bg-color: #434B5C;\n",
       "      --hover-fill-color: #FFFFFF;\n",
       "      --disabled-bg-color: #3B4455;\n",
       "      --disabled-fill-color: #666;\n",
       "  }\n",
       "\n",
       "  .colab-df-quickchart {\n",
       "    background-color: var(--bg-color);\n",
       "    border: none;\n",
       "    border-radius: 50%;\n",
       "    cursor: pointer;\n",
       "    display: none;\n",
       "    fill: var(--fill-color);\n",
       "    height: 32px;\n",
       "    padding: 0;\n",
       "    width: 32px;\n",
       "  }\n",
       "\n",
       "  .colab-df-quickchart:hover {\n",
       "    background-color: var(--hover-bg-color);\n",
       "    box-shadow: 0 1px 2px rgba(60, 64, 67, 0.3), 0 1px 3px 1px rgba(60, 64, 67, 0.15);\n",
       "    fill: var(--button-hover-fill-color);\n",
       "  }\n",
       "\n",
       "  .colab-df-quickchart-complete:disabled,\n",
       "  .colab-df-quickchart-complete:disabled:hover {\n",
       "    background-color: var(--disabled-bg-color);\n",
       "    fill: var(--disabled-fill-color);\n",
       "    box-shadow: none;\n",
       "  }\n",
       "\n",
       "  .colab-df-spinner {\n",
       "    border: 2px solid var(--fill-color);\n",
       "    border-color: transparent;\n",
       "    border-bottom-color: var(--fill-color);\n",
       "    animation:\n",
       "      spin 1s steps(1) infinite;\n",
       "  }\n",
       "\n",
       "  @keyframes spin {\n",
       "    0% {\n",
       "      border-color: transparent;\n",
       "      border-bottom-color: var(--fill-color);\n",
       "      border-left-color: var(--fill-color);\n",
       "    }\n",
       "    20% {\n",
       "      border-color: transparent;\n",
       "      border-left-color: var(--fill-color);\n",
       "      border-top-color: var(--fill-color);\n",
       "    }\n",
       "    30% {\n",
       "      border-color: transparent;\n",
       "      border-left-color: var(--fill-color);\n",
       "      border-top-color: var(--fill-color);\n",
       "      border-right-color: var(--fill-color);\n",
       "    }\n",
       "    40% {\n",
       "      border-color: transparent;\n",
       "      border-right-color: var(--fill-color);\n",
       "      border-top-color: var(--fill-color);\n",
       "    }\n",
       "    60% {\n",
       "      border-color: transparent;\n",
       "      border-right-color: var(--fill-color);\n",
       "    }\n",
       "    80% {\n",
       "      border-color: transparent;\n",
       "      border-right-color: var(--fill-color);\n",
       "      border-bottom-color: var(--fill-color);\n",
       "    }\n",
       "    90% {\n",
       "      border-color: transparent;\n",
       "      border-bottom-color: var(--fill-color);\n",
       "    }\n",
       "  }\n",
       "</style>\n",
       "\n",
       "  <script>\n",
       "    async function quickchart(key) {\n",
       "      const quickchartButtonEl =\n",
       "        document.querySelector('#' + key + ' button');\n",
       "      quickchartButtonEl.disabled = true;  // To prevent multiple clicks.\n",
       "      quickchartButtonEl.classList.add('colab-df-spinner');\n",
       "      try {\n",
       "        const charts = await google.colab.kernel.invokeFunction(\n",
       "            'suggestCharts', [key], {});\n",
       "      } catch (error) {\n",
       "        console.error('Error during call to suggestCharts:', error);\n",
       "      }\n",
       "      quickchartButtonEl.classList.remove('colab-df-spinner');\n",
       "      quickchartButtonEl.classList.add('colab-df-quickchart-complete');\n",
       "    }\n",
       "    (() => {\n",
       "      let quickchartButtonEl =\n",
       "        document.querySelector('#df-1f56989c-9bb2-4a6d-8110-b5302c19de74 button');\n",
       "      quickchartButtonEl.style.display =\n",
       "        google.colab.kernel.accessAllowed ? 'block' : 'none';\n",
       "    })();\n",
       "  </script>\n",
       "</div>\n",
       "\n",
       "    </div>\n",
       "  </div>\n"
      ],
      "text/plain": [
       "     voc_trt_perd_itg_cd  voc_prod_sbt_id  voc_wjt_sorc_id  voc_type_itg_cd  \\\n",
       "9995                   _       1000811136             2123            10009   \n",
       "9996                   _       1001047799             2153            10009   \n",
       "9997                   _       1001027819              379            10009   \n",
       "9998                   _       1001027819              314            10009   \n",
       "9999                   _       1001047802             2266            10009   \n",
       "\n",
       "      voc_sttus_itg_cd voc_trt_reslt_itg_cd cust_clas_itg_cd  bprod_sbt_id  \\\n",
       "9995             10002                    _                G    1000809259   \n",
       "9996             10002                    _                I    1001046521   \n",
       "9997             10002                    _                G    1000720809   \n",
       "9998             10002                    _                I    1000720809   \n",
       "9999             10002                    _                G    1001046524   \n",
       "\n",
       "     age_itg_cd cont_sttus_itg_cd  ...  voc_dupl_tmscnt  \\\n",
       "9995         17             10001  ...                0   \n",
       "9996         35             10001  ...                0   \n",
       "9997         51             10001  ...                0   \n",
       "9998          _             10001  ...                0   \n",
       "9999         27             10001  ...                0   \n",
       "\n",
       "      oos_cause_type_itg_cd voc_trt_need_time_itg_cd  engt_cperd_type_itg_cd  \\\n",
       "9995                      _                    10001                       _   \n",
       "9996                      _                    10001                       _   \n",
       "9997                  10270                    10001                   15097   \n",
       "9998                      _                    10001                   15097   \n",
       "9999                      _                    10001                       _   \n",
       "\n",
       "      engt_tgt_div_itg_cd cont_fns_pam_date  voc_mis_pbls_yn fclt_oos_yn  \\\n",
       "9995                    _          99991231                N           _   \n",
       "9996                    _          99991231                N           _   \n",
       "9997                15244          20180903                N           N   \n",
       "9998                15244          20210412                N           _   \n",
       "9999                    _          99991231                N           _   \n",
       "\n",
       "     cust_snsry_base_conf_need_time  trm_yn  \n",
       "9995                              0       N  \n",
       "9996                              0       N  \n",
       "9997                              0       N  \n",
       "9998                              0       N  \n",
       "9999                              0       N  \n",
       "\n",
       "[5 rows x 24 columns]"
      ]
     },
     "execution_count": 14,
     "metadata": {},
     "output_type": "execute_result"
    }
   ],
   "source": [
    "# 여기에 답안코드를 작성하세요.\n",
    "df.tail()\n"
   ]
  },
  {
   "cell_type": "markdown",
   "metadata": {
    "id": "sklsfGSbqhLp"
   },
   "source": [
    "<br>\n",
    "<font color=blue>3-2. 데이터프레임 정보(컬럼정보, Null 여부, 타입) 출력하세요</font>"
   ]
  },
  {
   "cell_type": "code",
   "execution_count": 15,
   "metadata": {
    "colab": {
     "base_uri": "https://localhost:8080/"
    },
    "executionInfo": {
     "elapsed": 427,
     "status": "ok",
     "timestamp": 1731285971630,
     "user": {
      "displayName": "이예림 (겨울냥국)",
      "userId": "03592088159420229142"
     },
     "user_tz": -540
    },
    "id": "XShn1i8PqhLp",
    "outputId": "8d7c1c9b-165f-4306-b60b-fbd3ebc31c2a"
   },
   "outputs": [
    {
     "name": "stdout",
     "output_type": "stream",
     "text": [
      "<class 'pandas.core.frame.DataFrame'>\n",
      "RangeIndex: 10000 entries, 0 to 9999\n",
      "Data columns (total 24 columns):\n",
      " #   Column                          Non-Null Count  Dtype \n",
      "---  ------                          --------------  ----- \n",
      " 0   voc_trt_perd_itg_cd             10000 non-null  object\n",
      " 1   voc_prod_sbt_id                 10000 non-null  int64 \n",
      " 2   voc_wjt_sorc_id                 10000 non-null  int64 \n",
      " 3   voc_type_itg_cd                 10000 non-null  int64 \n",
      " 4   voc_sttus_itg_cd                10000 non-null  int64 \n",
      " 5   voc_trt_reslt_itg_cd            10000 non-null  object\n",
      " 6   cust_clas_itg_cd                10000 non-null  object\n",
      " 7   bprod_sbt_id                    10000 non-null  int64 \n",
      " 8   age_itg_cd                      10000 non-null  object\n",
      " 9   cont_sttus_itg_cd               10000 non-null  object\n",
      " 10  new_date                        10000 non-null  int64 \n",
      " 11  opn_nfl_chg_date                10000 non-null  int64 \n",
      " 12  cust_dtl_ctg_itg_cd             10000 non-null  object\n",
      " 13  voc_trt_degr_div_itg_cd         10000 non-null  int64 \n",
      " 14  voc_dupl_tmscnt                 10000 non-null  int64 \n",
      " 15  oos_cause_type_itg_cd           10000 non-null  object\n",
      " 16  voc_trt_need_time_itg_cd        10000 non-null  int64 \n",
      " 17  engt_cperd_type_itg_cd          10000 non-null  object\n",
      " 18  engt_tgt_div_itg_cd             10000 non-null  object\n",
      " 19  cont_fns_pam_date               10000 non-null  int64 \n",
      " 20  voc_mis_pbls_yn                 10000 non-null  object\n",
      " 21  fclt_oos_yn                     10000 non-null  object\n",
      " 22  cust_snsry_base_conf_need_time  10000 non-null  int64 \n",
      " 23  trm_yn                          10000 non-null  object\n",
      "dtypes: int64(12), object(12)\n",
      "memory usage: 1.8+ MB\n"
     ]
    }
   ],
   "source": [
    "# 여기에 답안코드를 작성하세요.\n",
    "df.info()\n"
   ]
  },
  {
   "cell_type": "markdown",
   "metadata": {
    "id": "fu0M4bxuqhLp"
   },
   "source": [
    "<br>\n",
    "<font color=blue>3-3. 데이터프레임 인덱스를 확인하세요</font>"
   ]
  },
  {
   "cell_type": "code",
   "execution_count": 16,
   "metadata": {
    "colab": {
     "base_uri": "https://localhost:8080/"
    },
    "executionInfo": {
     "elapsed": 336,
     "status": "ok",
     "timestamp": 1731285995870,
     "user": {
      "displayName": "이예림 (겨울냥국)",
      "userId": "03592088159420229142"
     },
     "user_tz": -540
    },
    "id": "Io3a8G7uqhLp",
    "outputId": "34882ce5-bcf1-4a47-d0c4-d398dd4491a1"
   },
   "outputs": [
    {
     "data": {
      "text/plain": [
       "RangeIndex(start=0, stop=10000, step=1)"
      ]
     },
     "execution_count": 16,
     "metadata": {},
     "output_type": "execute_result"
    }
   ],
   "source": [
    "# 여기에 답안코드를 작성하세요.\n",
    "df.index\n"
   ]
  },
  {
   "cell_type": "markdown",
   "metadata": {
    "id": "Iwwm8D-WqhLq"
   },
   "source": [
    "<br>\n",
    "<font color=blue>3-4. 데이터프레임 컬럼을 확인하세요</font>"
   ]
  },
  {
   "cell_type": "code",
   "execution_count": 18,
   "metadata": {
    "colab": {
     "base_uri": "https://localhost:8080/"
    },
    "executionInfo": {
     "elapsed": 322,
     "status": "ok",
     "timestamp": 1731286022172,
     "user": {
      "displayName": "이예림 (겨울냥국)",
      "userId": "03592088159420229142"
     },
     "user_tz": -540
    },
    "id": "GNdNf-DQqhLq",
    "outputId": "f471b36c-98b9-4357-cf31-1ded511e1ece"
   },
   "outputs": [
    {
     "data": {
      "text/plain": [
       "Index(['voc_trt_perd_itg_cd', 'voc_prod_sbt_id', 'voc_wjt_sorc_id',\n",
       "       'voc_type_itg_cd', 'voc_sttus_itg_cd', 'voc_trt_reslt_itg_cd',\n",
       "       'cust_clas_itg_cd', 'bprod_sbt_id', 'age_itg_cd', 'cont_sttus_itg_cd',\n",
       "       'new_date', 'opn_nfl_chg_date', 'cust_dtl_ctg_itg_cd',\n",
       "       'voc_trt_degr_div_itg_cd', 'voc_dupl_tmscnt', 'oos_cause_type_itg_cd',\n",
       "       'voc_trt_need_time_itg_cd', 'engt_cperd_type_itg_cd',\n",
       "       'engt_tgt_div_itg_cd', 'cont_fns_pam_date', 'voc_mis_pbls_yn',\n",
       "       'fclt_oos_yn', 'cust_snsry_base_conf_need_time', 'trm_yn'],\n",
       "      dtype='object')"
      ]
     },
     "execution_count": 18,
     "metadata": {},
     "output_type": "execute_result"
    }
   ],
   "source": [
    "# 여기에 답안코드를 작성하세요.\n",
    "df.columns\n"
   ]
  },
  {
   "cell_type": "markdown",
   "metadata": {
    "id": "CloBf_8UqhLq"
   },
   "source": [
    "<br>\n",
    "<font color=blue>3-5. 데이터프레임 값(value)을 확인하세요</font>"
   ]
  },
  {
   "cell_type": "code",
   "execution_count": 19,
   "metadata": {
    "colab": {
     "base_uri": "https://localhost:8080/"
    },
    "executionInfo": {
     "elapsed": 337,
     "status": "ok",
     "timestamp": 1731286027755,
     "user": {
      "displayName": "이예림 (겨울냥국)",
      "userId": "03592088159420229142"
     },
     "user_tz": -540
    },
    "id": "g-0yIKCXqhLq",
    "outputId": "357a4e11-b8cf-4ffb-e858-e0cdbfce860b"
   },
   "outputs": [
    {
     "data": {
      "text/plain": [
       "array([['_', 1000665328, 2153, ..., '_', 0, 'N'],\n",
       "       ['_', 1001028714, 3311, ..., '_', 0, 'N'],\n",
       "       ['_', 1001028567, 1575, ..., 'N', 0, 'N'],\n",
       "       ...,\n",
       "       ['_', 1001027819, 379, ..., 'N', 0, 'N'],\n",
       "       ['_', 1001027819, 314, ..., '_', 0, 'N'],\n",
       "       ['_', 1001047802, 2266, ..., '_', 0, 'N']], dtype=object)"
      ]
     },
     "execution_count": 19,
     "metadata": {},
     "output_type": "execute_result"
    }
   ],
   "source": [
    "# 여기에 답안코드를 작성하세요.\n",
    "df.values\n"
   ]
  },
  {
   "cell_type": "markdown",
   "metadata": {
    "id": "jqIWZUrqqhLq"
   },
   "source": [
    "<br>\n",
    "<font color=blue>3-6. 데이터프레임의 계산 가능한 값들에 대한 통계치를 확인하세요</font>"
   ]
  },
  {
   "cell_type": "code",
   "execution_count": 20,
   "metadata": {
    "colab": {
     "base_uri": "https://localhost:8080/",
     "height": 320
    },
    "executionInfo": {
     "elapsed": 433,
     "status": "ok",
     "timestamp": 1731286046038,
     "user": {
      "displayName": "이예림 (겨울냥국)",
      "userId": "03592088159420229142"
     },
     "user_tz": -540
    },
    "id": "UgR6imnxqhLq",
    "outputId": "32f84de8-f930-4dda-8b1f-b4eb1cd58bbb"
   },
   "outputs": [
    {
     "data": {
      "application/vnd.google.colaboratory.intrinsic+json": {
       "summary": "{\n  \"name\": \"df\",\n  \"rows\": 8,\n  \"fields\": [\n    {\n      \"column\": \"voc_prod_sbt_id\",\n      \"properties\": {\n        \"dtype\": \"number\",\n        \"std\": 500617737.4024174,\n        \"min\": -998.0,\n        \"max\": 1001079425.0,\n        \"num_unique_values\": 8,\n        \"samples\": [\n          990726671.5935,\n          1001027747.0,\n          10000.0\n        ],\n        \"semantic_type\": \"\",\n        \"description\": \"\"\n      }\n    },\n    {\n      \"column\": \"voc_wjt_sorc_id\",\n      \"properties\": {\n        \"dtype\": \"number\",\n        \"std\": 3191.7122356245272,\n        \"min\": 126.0,\n        \"max\": 10000.0,\n        \"num_unique_values\": 8,\n        \"samples\": [\n          1578.2917,\n          2056.0,\n          10000.0\n        ],\n        \"semantic_type\": \"\",\n        \"description\": \"\"\n      }\n    },\n    {\n      \"column\": \"voc_type_itg_cd\",\n      \"properties\": {\n        \"dtype\": \"number\",\n        \"std\": 3537.7834128922154,\n        \"min\": 1.5792695935921557,\n        \"max\": 10017.0,\n        \"num_unique_values\": 6,\n        \"samples\": [\n          10000.0,\n          10008.5236,\n          10017.0\n        ],\n        \"semantic_type\": \"\",\n        \"description\": \"\"\n      }\n    },\n    {\n      \"column\": \"voc_sttus_itg_cd\",\n      \"properties\": {\n        \"dtype\": \"number\",\n        \"std\": 3536.182657916401,\n        \"min\": 0.31484337794410366,\n        \"max\": 10005.0,\n        \"num_unique_values\": 5,\n        \"samples\": [\n          10002.0434,\n          10005.0,\n          0.31484337794410366\n        ],\n        \"semantic_type\": \"\",\n        \"description\": \"\"\n      }\n    },\n    {\n      \"column\": \"bprod_sbt_id\",\n      \"properties\": {\n        \"dtype\": \"number\",\n        \"std\": 462852582.8146468,\n        \"min\": -998.0,\n        \"max\": 1001078031.0,\n        \"num_unique_values\": 8,\n        \"samples\": [\n          883817287.0952,\n          1000748648.0,\n          10000.0\n        ],\n        \"semantic_type\": \"\",\n        \"description\": \"\"\n      }\n    },\n    {\n      \"column\": \"new_date\",\n      \"properties\": {\n        \"dtype\": \"number\",\n        \"std\": 9254146.04052539,\n        \"min\": 10000.0,\n        \"max\": 20200410.0,\n        \"num_unique_values\": 8,\n        \"samples\": [\n          17442832.2065,\n          20141206.5,\n          10000.0\n        ],\n        \"semantic_type\": \"\",\n        \"description\": \"\"\n      }\n    },\n    {\n      \"column\": \"opn_nfl_chg_date\",\n      \"properties\": {\n        \"dtype\": \"number\",\n        \"std\": 9255297.788330352,\n        \"min\": 10000.0,\n        \"max\": 20200410.0,\n        \"num_unique_values\": 8,\n        \"samples\": [\n          17445053.0997,\n          20150309.0,\n          10000.0\n        ],\n        \"semantic_type\": \"\",\n        \"description\": \"\"\n      }\n    },\n    {\n      \"column\": \"voc_trt_degr_div_itg_cd\",\n      \"properties\": {\n        \"dtype\": \"number\",\n        \"std\": 7440.665681107619,\n        \"min\": 0.26210919503714875,\n        \"max\": 20002.0,\n        \"num_unique_values\": 5,\n        \"samples\": [\n          20001.0742,\n          20002.0,\n          0.26210919503714875\n        ],\n        \"semantic_type\": \"\",\n        \"description\": \"\"\n      }\n    },\n    {\n      \"column\": \"voc_dupl_tmscnt\",\n      \"properties\": {\n        \"dtype\": \"number\",\n        \"std\": 3535.3768623630735,\n        \"min\": 0.0,\n        \"max\": 10000.0,\n        \"num_unique_values\": 5,\n        \"samples\": [\n          0.0088,\n          3.0,\n          0.10355497266300118\n        ],\n        \"semantic_type\": \"\",\n        \"description\": \"\"\n      }\n    },\n    {\n      \"column\": \"voc_trt_need_time_itg_cd\",\n      \"properties\": {\n        \"dtype\": \"number\",\n        \"std\": 3535.48778375873,\n        \"min\": 6.576863939137121,\n        \"max\": 10038.0,\n        \"num_unique_values\": 5,\n        \"samples\": [\n          10002.6568,\n          10038.0,\n          6.576863939137121\n        ],\n        \"semantic_type\": \"\",\n        \"description\": \"\"\n      }\n    },\n    {\n      \"column\": \"cont_fns_pam_date\",\n      \"properties\": {\n        \"dtype\": \"number\",\n        \"std\": 41430224.19800302,\n        \"min\": 10000.0,\n        \"max\": 99991231.0,\n        \"num_unique_values\": 6,\n        \"samples\": [\n          10000.0,\n          70044691.9807,\n          99991231.0\n        ],\n        \"semantic_type\": \"\",\n        \"description\": \"\"\n      }\n    },\n    {\n      \"column\": \"cust_snsry_base_conf_need_time\",\n      \"properties\": {\n        \"dtype\": \"number\",\n        \"std\": 129296.42365482597,\n        \"min\": 0.0,\n        \"max\": 367991.0,\n        \"num_unique_values\": 5,\n        \"samples\": [\n          193.8801,\n          367991.0,\n          6970.038529938504\n        ],\n        \"semantic_type\": \"\",\n        \"description\": \"\"\n      }\n    }\n  ]\n}",
       "type": "dataframe"
      },
      "text/html": [
       "\n",
       "  <div id=\"df-ae35131d-d627-434b-ab90-ee9dc2aec69e\" class=\"colab-df-container\">\n",
       "    <div>\n",
       "<style scoped>\n",
       "    .dataframe tbody tr th:only-of-type {\n",
       "        vertical-align: middle;\n",
       "    }\n",
       "\n",
       "    .dataframe tbody tr th {\n",
       "        vertical-align: top;\n",
       "    }\n",
       "\n",
       "    .dataframe thead th {\n",
       "        text-align: right;\n",
       "    }\n",
       "</style>\n",
       "<table border=\"1\" class=\"dataframe\">\n",
       "  <thead>\n",
       "    <tr style=\"text-align: right;\">\n",
       "      <th></th>\n",
       "      <th>voc_prod_sbt_id</th>\n",
       "      <th>voc_wjt_sorc_id</th>\n",
       "      <th>voc_type_itg_cd</th>\n",
       "      <th>voc_sttus_itg_cd</th>\n",
       "      <th>bprod_sbt_id</th>\n",
       "      <th>new_date</th>\n",
       "      <th>opn_nfl_chg_date</th>\n",
       "      <th>voc_trt_degr_div_itg_cd</th>\n",
       "      <th>voc_dupl_tmscnt</th>\n",
       "      <th>voc_trt_need_time_itg_cd</th>\n",
       "      <th>cont_fns_pam_date</th>\n",
       "      <th>cust_snsry_base_conf_need_time</th>\n",
       "    </tr>\n",
       "  </thead>\n",
       "  <tbody>\n",
       "    <tr>\n",
       "      <th>count</th>\n",
       "      <td>1.000000e+04</td>\n",
       "      <td>10000.00000</td>\n",
       "      <td>10000.00000</td>\n",
       "      <td>10000.000000</td>\n",
       "      <td>1.000000e+04</td>\n",
       "      <td>1.000000e+04</td>\n",
       "      <td>1.000000e+04</td>\n",
       "      <td>10000.000000</td>\n",
       "      <td>10000.000000</td>\n",
       "      <td>10000.000000</td>\n",
       "      <td>1.000000e+04</td>\n",
       "      <td>10000.00000</td>\n",
       "    </tr>\n",
       "    <tr>\n",
       "      <th>mean</th>\n",
       "      <td>9.907267e+08</td>\n",
       "      <td>1578.29170</td>\n",
       "      <td>10008.52360</td>\n",
       "      <td>10002.043400</td>\n",
       "      <td>8.838173e+08</td>\n",
       "      <td>1.744283e+07</td>\n",
       "      <td>1.744505e+07</td>\n",
       "      <td>20001.074200</td>\n",
       "      <td>0.008800</td>\n",
       "      <td>10002.656800</td>\n",
       "      <td>7.004469e+07</td>\n",
       "      <td>193.88010</td>\n",
       "    </tr>\n",
       "    <tr>\n",
       "      <th>std</th>\n",
       "      <td>1.005780e+08</td>\n",
       "      <td>1078.63717</td>\n",
       "      <td>1.57927</td>\n",
       "      <td>0.314843</td>\n",
       "      <td>3.214229e+08</td>\n",
       "      <td>6.849207e+06</td>\n",
       "      <td>6.850077e+06</td>\n",
       "      <td>0.262109</td>\n",
       "      <td>0.103555</td>\n",
       "      <td>6.576864</td>\n",
       "      <td>3.863802e+07</td>\n",
       "      <td>6970.03853</td>\n",
       "    </tr>\n",
       "    <tr>\n",
       "      <th>min</th>\n",
       "      <td>-9.980000e+02</td>\n",
       "      <td>126.00000</td>\n",
       "      <td>10003.00000</td>\n",
       "      <td>10002.000000</td>\n",
       "      <td>-9.980000e+02</td>\n",
       "      <td>1.010100e+04</td>\n",
       "      <td>1.010100e+04</td>\n",
       "      <td>20001.000000</td>\n",
       "      <td>0.000000</td>\n",
       "      <td>10001.000000</td>\n",
       "      <td>2.001063e+07</td>\n",
       "      <td>0.00000</td>\n",
       "    </tr>\n",
       "    <tr>\n",
       "      <th>25%</th>\n",
       "      <td>1.000782e+09</td>\n",
       "      <td>360.00000</td>\n",
       "      <td>10009.00000</td>\n",
       "      <td>10002.000000</td>\n",
       "      <td>1.000003e+09</td>\n",
       "      <td>2.008053e+07</td>\n",
       "      <td>2.008123e+07</td>\n",
       "      <td>20001.000000</td>\n",
       "      <td>0.000000</td>\n",
       "      <td>10001.000000</td>\n",
       "      <td>2.021102e+07</td>\n",
       "      <td>0.00000</td>\n",
       "    </tr>\n",
       "    <tr>\n",
       "      <th>50%</th>\n",
       "      <td>1.001028e+09</td>\n",
       "      <td>2056.00000</td>\n",
       "      <td>10009.00000</td>\n",
       "      <td>10002.000000</td>\n",
       "      <td>1.000749e+09</td>\n",
       "      <td>2.014121e+07</td>\n",
       "      <td>2.015031e+07</td>\n",
       "      <td>20001.000000</td>\n",
       "      <td>0.000000</td>\n",
       "      <td>10001.000000</td>\n",
       "      <td>9.999123e+07</td>\n",
       "      <td>0.00000</td>\n",
       "    </tr>\n",
       "    <tr>\n",
       "      <th>75%</th>\n",
       "      <td>1.001036e+09</td>\n",
       "      <td>2153.00000</td>\n",
       "      <td>10009.00000</td>\n",
       "      <td>10002.000000</td>\n",
       "      <td>1.001044e+09</td>\n",
       "      <td>2.018010e+07</td>\n",
       "      <td>2.018032e+07</td>\n",
       "      <td>20001.000000</td>\n",
       "      <td>0.000000</td>\n",
       "      <td>10001.000000</td>\n",
       "      <td>9.999123e+07</td>\n",
       "      <td>0.00000</td>\n",
       "    </tr>\n",
       "    <tr>\n",
       "      <th>max</th>\n",
       "      <td>1.001079e+09</td>\n",
       "      <td>3856.00000</td>\n",
       "      <td>10017.00000</td>\n",
       "      <td>10005.000000</td>\n",
       "      <td>1.001078e+09</td>\n",
       "      <td>2.020041e+07</td>\n",
       "      <td>2.020041e+07</td>\n",
       "      <td>20002.000000</td>\n",
       "      <td>3.000000</td>\n",
       "      <td>10038.000000</td>\n",
       "      <td>9.999123e+07</td>\n",
       "      <td>367991.00000</td>\n",
       "    </tr>\n",
       "  </tbody>\n",
       "</table>\n",
       "</div>\n",
       "    <div class=\"colab-df-buttons\">\n",
       "\n",
       "  <div class=\"colab-df-container\">\n",
       "    <button class=\"colab-df-convert\" onclick=\"convertToInteractive('df-ae35131d-d627-434b-ab90-ee9dc2aec69e')\"\n",
       "            title=\"Convert this dataframe to an interactive table.\"\n",
       "            style=\"display:none;\">\n",
       "\n",
       "  <svg xmlns=\"http://www.w3.org/2000/svg\" height=\"24px\" viewBox=\"0 -960 960 960\">\n",
       "    <path d=\"M120-120v-720h720v720H120Zm60-500h600v-160H180v160Zm220 220h160v-160H400v160Zm0 220h160v-160H400v160ZM180-400h160v-160H180v160Zm440 0h160v-160H620v160ZM180-180h160v-160H180v160Zm440 0h160v-160H620v160Z\"/>\n",
       "  </svg>\n",
       "    </button>\n",
       "\n",
       "  <style>\n",
       "    .colab-df-container {\n",
       "      display:flex;\n",
       "      gap: 12px;\n",
       "    }\n",
       "\n",
       "    .colab-df-convert {\n",
       "      background-color: #E8F0FE;\n",
       "      border: none;\n",
       "      border-radius: 50%;\n",
       "      cursor: pointer;\n",
       "      display: none;\n",
       "      fill: #1967D2;\n",
       "      height: 32px;\n",
       "      padding: 0 0 0 0;\n",
       "      width: 32px;\n",
       "    }\n",
       "\n",
       "    .colab-df-convert:hover {\n",
       "      background-color: #E2EBFA;\n",
       "      box-shadow: 0px 1px 2px rgba(60, 64, 67, 0.3), 0px 1px 3px 1px rgba(60, 64, 67, 0.15);\n",
       "      fill: #174EA6;\n",
       "    }\n",
       "\n",
       "    .colab-df-buttons div {\n",
       "      margin-bottom: 4px;\n",
       "    }\n",
       "\n",
       "    [theme=dark] .colab-df-convert {\n",
       "      background-color: #3B4455;\n",
       "      fill: #D2E3FC;\n",
       "    }\n",
       "\n",
       "    [theme=dark] .colab-df-convert:hover {\n",
       "      background-color: #434B5C;\n",
       "      box-shadow: 0px 1px 3px 1px rgba(0, 0, 0, 0.15);\n",
       "      filter: drop-shadow(0px 1px 2px rgba(0, 0, 0, 0.3));\n",
       "      fill: #FFFFFF;\n",
       "    }\n",
       "  </style>\n",
       "\n",
       "    <script>\n",
       "      const buttonEl =\n",
       "        document.querySelector('#df-ae35131d-d627-434b-ab90-ee9dc2aec69e button.colab-df-convert');\n",
       "      buttonEl.style.display =\n",
       "        google.colab.kernel.accessAllowed ? 'block' : 'none';\n",
       "\n",
       "      async function convertToInteractive(key) {\n",
       "        const element = document.querySelector('#df-ae35131d-d627-434b-ab90-ee9dc2aec69e');\n",
       "        const dataTable =\n",
       "          await google.colab.kernel.invokeFunction('convertToInteractive',\n",
       "                                                    [key], {});\n",
       "        if (!dataTable) return;\n",
       "\n",
       "        const docLinkHtml = 'Like what you see? Visit the ' +\n",
       "          '<a target=\"_blank\" href=https://colab.research.google.com/notebooks/data_table.ipynb>data table notebook</a>'\n",
       "          + ' to learn more about interactive tables.';\n",
       "        element.innerHTML = '';\n",
       "        dataTable['output_type'] = 'display_data';\n",
       "        await google.colab.output.renderOutput(dataTable, element);\n",
       "        const docLink = document.createElement('div');\n",
       "        docLink.innerHTML = docLinkHtml;\n",
       "        element.appendChild(docLink);\n",
       "      }\n",
       "    </script>\n",
       "  </div>\n",
       "\n",
       "\n",
       "<div id=\"df-5b7dcc25-a091-4304-9b46-d7a0aa381f52\">\n",
       "  <button class=\"colab-df-quickchart\" onclick=\"quickchart('df-5b7dcc25-a091-4304-9b46-d7a0aa381f52')\"\n",
       "            title=\"Suggest charts\"\n",
       "            style=\"display:none;\">\n",
       "\n",
       "<svg xmlns=\"http://www.w3.org/2000/svg\" height=\"24px\"viewBox=\"0 0 24 24\"\n",
       "     width=\"24px\">\n",
       "    <g>\n",
       "        <path d=\"M19 3H5c-1.1 0-2 .9-2 2v14c0 1.1.9 2 2 2h14c1.1 0 2-.9 2-2V5c0-1.1-.9-2-2-2zM9 17H7v-7h2v7zm4 0h-2V7h2v10zm4 0h-2v-4h2v4z\"/>\n",
       "    </g>\n",
       "</svg>\n",
       "  </button>\n",
       "\n",
       "<style>\n",
       "  .colab-df-quickchart {\n",
       "      --bg-color: #E8F0FE;\n",
       "      --fill-color: #1967D2;\n",
       "      --hover-bg-color: #E2EBFA;\n",
       "      --hover-fill-color: #174EA6;\n",
       "      --disabled-fill-color: #AAA;\n",
       "      --disabled-bg-color: #DDD;\n",
       "  }\n",
       "\n",
       "  [theme=dark] .colab-df-quickchart {\n",
       "      --bg-color: #3B4455;\n",
       "      --fill-color: #D2E3FC;\n",
       "      --hover-bg-color: #434B5C;\n",
       "      --hover-fill-color: #FFFFFF;\n",
       "      --disabled-bg-color: #3B4455;\n",
       "      --disabled-fill-color: #666;\n",
       "  }\n",
       "\n",
       "  .colab-df-quickchart {\n",
       "    background-color: var(--bg-color);\n",
       "    border: none;\n",
       "    border-radius: 50%;\n",
       "    cursor: pointer;\n",
       "    display: none;\n",
       "    fill: var(--fill-color);\n",
       "    height: 32px;\n",
       "    padding: 0;\n",
       "    width: 32px;\n",
       "  }\n",
       "\n",
       "  .colab-df-quickchart:hover {\n",
       "    background-color: var(--hover-bg-color);\n",
       "    box-shadow: 0 1px 2px rgba(60, 64, 67, 0.3), 0 1px 3px 1px rgba(60, 64, 67, 0.15);\n",
       "    fill: var(--button-hover-fill-color);\n",
       "  }\n",
       "\n",
       "  .colab-df-quickchart-complete:disabled,\n",
       "  .colab-df-quickchart-complete:disabled:hover {\n",
       "    background-color: var(--disabled-bg-color);\n",
       "    fill: var(--disabled-fill-color);\n",
       "    box-shadow: none;\n",
       "  }\n",
       "\n",
       "  .colab-df-spinner {\n",
       "    border: 2px solid var(--fill-color);\n",
       "    border-color: transparent;\n",
       "    border-bottom-color: var(--fill-color);\n",
       "    animation:\n",
       "      spin 1s steps(1) infinite;\n",
       "  }\n",
       "\n",
       "  @keyframes spin {\n",
       "    0% {\n",
       "      border-color: transparent;\n",
       "      border-bottom-color: var(--fill-color);\n",
       "      border-left-color: var(--fill-color);\n",
       "    }\n",
       "    20% {\n",
       "      border-color: transparent;\n",
       "      border-left-color: var(--fill-color);\n",
       "      border-top-color: var(--fill-color);\n",
       "    }\n",
       "    30% {\n",
       "      border-color: transparent;\n",
       "      border-left-color: var(--fill-color);\n",
       "      border-top-color: var(--fill-color);\n",
       "      border-right-color: var(--fill-color);\n",
       "    }\n",
       "    40% {\n",
       "      border-color: transparent;\n",
       "      border-right-color: var(--fill-color);\n",
       "      border-top-color: var(--fill-color);\n",
       "    }\n",
       "    60% {\n",
       "      border-color: transparent;\n",
       "      border-right-color: var(--fill-color);\n",
       "    }\n",
       "    80% {\n",
       "      border-color: transparent;\n",
       "      border-right-color: var(--fill-color);\n",
       "      border-bottom-color: var(--fill-color);\n",
       "    }\n",
       "    90% {\n",
       "      border-color: transparent;\n",
       "      border-bottom-color: var(--fill-color);\n",
       "    }\n",
       "  }\n",
       "</style>\n",
       "\n",
       "  <script>\n",
       "    async function quickchart(key) {\n",
       "      const quickchartButtonEl =\n",
       "        document.querySelector('#' + key + ' button');\n",
       "      quickchartButtonEl.disabled = true;  // To prevent multiple clicks.\n",
       "      quickchartButtonEl.classList.add('colab-df-spinner');\n",
       "      try {\n",
       "        const charts = await google.colab.kernel.invokeFunction(\n",
       "            'suggestCharts', [key], {});\n",
       "      } catch (error) {\n",
       "        console.error('Error during call to suggestCharts:', error);\n",
       "      }\n",
       "      quickchartButtonEl.classList.remove('colab-df-spinner');\n",
       "      quickchartButtonEl.classList.add('colab-df-quickchart-complete');\n",
       "    }\n",
       "    (() => {\n",
       "      let quickchartButtonEl =\n",
       "        document.querySelector('#df-5b7dcc25-a091-4304-9b46-d7a0aa381f52 button');\n",
       "      quickchartButtonEl.style.display =\n",
       "        google.colab.kernel.accessAllowed ? 'block' : 'none';\n",
       "    })();\n",
       "  </script>\n",
       "</div>\n",
       "\n",
       "    </div>\n",
       "  </div>\n"
      ],
      "text/plain": [
       "       voc_prod_sbt_id  voc_wjt_sorc_id  voc_type_itg_cd  voc_sttus_itg_cd  \\\n",
       "count     1.000000e+04      10000.00000      10000.00000      10000.000000   \n",
       "mean      9.907267e+08       1578.29170      10008.52360      10002.043400   \n",
       "std       1.005780e+08       1078.63717          1.57927          0.314843   \n",
       "min      -9.980000e+02        126.00000      10003.00000      10002.000000   \n",
       "25%       1.000782e+09        360.00000      10009.00000      10002.000000   \n",
       "50%       1.001028e+09       2056.00000      10009.00000      10002.000000   \n",
       "75%       1.001036e+09       2153.00000      10009.00000      10002.000000   \n",
       "max       1.001079e+09       3856.00000      10017.00000      10005.000000   \n",
       "\n",
       "       bprod_sbt_id      new_date  opn_nfl_chg_date  voc_trt_degr_div_itg_cd  \\\n",
       "count  1.000000e+04  1.000000e+04      1.000000e+04             10000.000000   \n",
       "mean   8.838173e+08  1.744283e+07      1.744505e+07             20001.074200   \n",
       "std    3.214229e+08  6.849207e+06      6.850077e+06                 0.262109   \n",
       "min   -9.980000e+02  1.010100e+04      1.010100e+04             20001.000000   \n",
       "25%    1.000003e+09  2.008053e+07      2.008123e+07             20001.000000   \n",
       "50%    1.000749e+09  2.014121e+07      2.015031e+07             20001.000000   \n",
       "75%    1.001044e+09  2.018010e+07      2.018032e+07             20001.000000   \n",
       "max    1.001078e+09  2.020041e+07      2.020041e+07             20002.000000   \n",
       "\n",
       "       voc_dupl_tmscnt  voc_trt_need_time_itg_cd  cont_fns_pam_date  \\\n",
       "count     10000.000000              10000.000000       1.000000e+04   \n",
       "mean          0.008800              10002.656800       7.004469e+07   \n",
       "std           0.103555                  6.576864       3.863802e+07   \n",
       "min           0.000000              10001.000000       2.001063e+07   \n",
       "25%           0.000000              10001.000000       2.021102e+07   \n",
       "50%           0.000000              10001.000000       9.999123e+07   \n",
       "75%           0.000000              10001.000000       9.999123e+07   \n",
       "max           3.000000              10038.000000       9.999123e+07   \n",
       "\n",
       "       cust_snsry_base_conf_need_time  \n",
       "count                     10000.00000  \n",
       "mean                        193.88010  \n",
       "std                        6970.03853  \n",
       "min                           0.00000  \n",
       "25%                           0.00000  \n",
       "50%                           0.00000  \n",
       "75%                           0.00000  \n",
       "max                      367991.00000  "
      ]
     },
     "execution_count": 20,
     "metadata": {},
     "output_type": "execute_result"
    }
   ],
   "source": [
    "# 여기에 답안코드를 작성하세요.\n",
    "df.describe()\n"
   ]
  },
  {
   "cell_type": "markdown",
   "metadata": {
    "id": "xwbnyav7qhLq"
   },
   "source": [
    "<br>\n",
    "<font color=blue>3-7. DataFrame 컬럼 항목에 Null 존재하는지 확인하세요.  (null값의 합계 포함)</font>"
   ]
  },
  {
   "cell_type": "code",
   "execution_count": 21,
   "metadata": {
    "colab": {
     "base_uri": "https://localhost:8080/"
    },
    "executionInfo": {
     "elapsed": 336,
     "status": "ok",
     "timestamp": 1731286072309,
     "user": {
      "displayName": "이예림 (겨울냥국)",
      "userId": "03592088159420229142"
     },
     "user_tz": -540
    },
    "id": "PqCmkBKPqhLq",
    "outputId": "200fdfa7-6d05-4b5e-c31a-56ef07a4309e"
   },
   "outputs": [
    {
     "name": "stdout",
     "output_type": "stream",
     "text": [
      "voc_trt_perd_itg_cd               0\n",
      "voc_prod_sbt_id                   0\n",
      "voc_wjt_sorc_id                   0\n",
      "voc_type_itg_cd                   0\n",
      "voc_sttus_itg_cd                  0\n",
      "voc_trt_reslt_itg_cd              0\n",
      "cust_clas_itg_cd                  0\n",
      "bprod_sbt_id                      0\n",
      "age_itg_cd                        0\n",
      "cont_sttus_itg_cd                 0\n",
      "new_date                          0\n",
      "opn_nfl_chg_date                  0\n",
      "cust_dtl_ctg_itg_cd               0\n",
      "voc_trt_degr_div_itg_cd           0\n",
      "voc_dupl_tmscnt                   0\n",
      "oos_cause_type_itg_cd             0\n",
      "voc_trt_need_time_itg_cd          0\n",
      "engt_cperd_type_itg_cd            0\n",
      "engt_tgt_div_itg_cd               0\n",
      "cont_fns_pam_date                 0\n",
      "voc_mis_pbls_yn                   0\n",
      "fclt_oos_yn                       0\n",
      "cust_snsry_base_conf_need_time    0\n",
      "trm_yn                            0\n",
      "dtype: int64\n"
     ]
    }
   ],
   "source": [
    "# 여기에 답안코드를 작성하세요.\n",
    "null_counts = df.isnull().sum()\n",
    "print(null_counts)\n"
   ]
  },
  {
   "cell_type": "markdown",
   "metadata": {
    "id": "z1Ty5Y5pqhLq"
   },
   "source": [
    "<br>\n",
    "<font color=blue>3-8. voc_trt_perd_itg_cd 컬럼의 데이터를 확인하세요</font>"
   ]
  },
  {
   "cell_type": "code",
   "execution_count": 22,
   "metadata": {
    "colab": {
     "base_uri": "https://localhost:8080/"
    },
    "executionInfo": {
     "elapsed": 340,
     "status": "ok",
     "timestamp": 1731286094661,
     "user": {
      "displayName": "이예림 (겨울냥국)",
      "userId": "03592088159420229142"
     },
     "user_tz": -540
    },
    "id": "cQ0_Oe2EqhLq",
    "outputId": "d25a68a5-32f4-455f-e4b8-6640814b6ee0"
   },
   "outputs": [
    {
     "name": "stdout",
     "output_type": "stream",
     "text": [
      "0           _\n",
      "1           _\n",
      "2           _\n",
      "3       10000\n",
      "4           _\n",
      "        ...  \n",
      "9995        _\n",
      "9996        _\n",
      "9997        _\n",
      "9998        _\n",
      "9999        _\n",
      "Name: voc_trt_perd_itg_cd, Length: 10000, dtype: object\n"
     ]
    }
   ],
   "source": [
    "# 여기에 답안코드를 작성하세요.\n",
    "print(df['voc_trt_perd_itg_cd'])\n"
   ]
  },
  {
   "cell_type": "markdown",
   "metadata": {
    "id": "7Aw4p79MqhLr"
   },
   "source": [
    "<br>\n",
    "<font color=blue>3-9. voc_trt_perd_itg_cd 컬럼 데이터별 건수를 나열하세요</font>"
   ]
  },
  {
   "cell_type": "code",
   "execution_count": 23,
   "metadata": {
    "colab": {
     "base_uri": "https://localhost:8080/"
    },
    "executionInfo": {
     "elapsed": 341,
     "status": "ok",
     "timestamp": 1731286110316,
     "user": {
      "displayName": "이예림 (겨울냥국)",
      "userId": "03592088159420229142"
     },
     "user_tz": -540
    },
    "id": "1N-k5VHnqhLr",
    "outputId": "bdd3b3da-c151-4220-9fe8-46772e5c250c"
   },
   "outputs": [
    {
     "name": "stdout",
     "output_type": "stream",
     "text": [
      "voc_trt_perd_itg_cd\n",
      "_        5422\n",
      "10000    4283\n",
      "10001     163\n",
      "10002      58\n",
      "10003      25\n",
      "10004      16\n",
      "10005      10\n",
      "10006       6\n",
      "10008       3\n",
      "10009       3\n",
      "10016       2\n",
      "10011       2\n",
      "10012       2\n",
      "10007       2\n",
      "10014       1\n",
      "10013       1\n",
      "10015       1\n",
      "Name: count, dtype: int64\n"
     ]
    }
   ],
   "source": [
    "# 여기에 답안코드를 작성하세요.\n",
    "counts = df['voc_trt_perd_itg_cd'].value_counts()\n",
    "print(counts)\n"
   ]
  },
  {
   "cell_type": "markdown",
   "metadata": {
    "id": "8RCUdwXEqhLr"
   },
   "source": [
    "### 컬럼에서  '_' 값이 차지하는 비율\n",
    "- voc_trt_perd_itg_cd : 0.54\n",
    "- voc_trt_reslt_itg_cd : 0.88\n",
    "- oos_cause_type_itg_cd : 0.9\n",
    "- engt_cperd_type_itg_cd : 0.63\n",
    "- engt_tgt_div_itg_cd : 0.63\n",
    "- fclt_oos_yn : 0.90  \n",
    "- cust_clas_itg_cd : 0.2\n",
    "- age_itg_cd : 0.22\n",
    "- cont_sttus_itg_cd : 0.11\n",
    "- cust_dtl_ctg_itg_cd : 0.11\n",
    "- voc_mis_pbls_yn : 0.008\n"
   ]
  },
  {
   "cell_type": "markdown",
   "metadata": {
    "id": "AsUpNwomqhLr"
   },
   "source": [
    "## **<span style=\"color:black\">4. 데이터 결측치 처리</span>**"
   ]
  },
  {
   "cell_type": "markdown",
   "metadata": {
    "id": "D98qvsShqhLv"
   },
   "source": [
    "<br>\n",
    "<font color=blue>4-1. voc_trt_perd_itg_cd 컬럼에서 '_' 값이 차지하는 비율이 50%가 넘는 것을 확인하고, 이 voc_trt_perd_itg_cd 컬럼을 삭제하세요. (컬럼이 삭제된 데이터를 df1에 저장하세요)</font>"
   ]
  },
  {
   "cell_type": "code",
   "execution_count": 24,
   "metadata": {
    "colab": {
     "base_uri": "https://localhost:8080/"
    },
    "executionInfo": {
     "elapsed": 504,
     "status": "ok",
     "timestamp": 1731286136031,
     "user": {
      "displayName": "이예림 (겨울냥국)",
      "userId": "03592088159420229142"
     },
     "user_tz": -540
    },
    "id": "ZIIW7Ht9qhLv",
    "outputId": "89dccabf-156d-4d80-9e98-8c5917e127e6"
   },
   "outputs": [
    {
     "name": "stdout",
     "output_type": "stream",
     "text": [
      "   voc_prod_sbt_id  voc_wjt_sorc_id  voc_type_itg_cd  voc_sttus_itg_cd  \\\n",
      "0       1000665328             2153            10009             10002   \n",
      "1       1001028714             3311            10009             10002   \n",
      "2       1001028567             1575            10009             10002   \n",
      "3       1000665328             3546            10009             10002   \n",
      "4       1000779276             3086            10009             10002   \n",
      "\n",
      "  voc_trt_reslt_itg_cd cust_clas_itg_cd  bprod_sbt_id age_itg_cd  \\\n",
      "0                    _                F    1000001126         36   \n",
      "1                10081                G    1000852226         32   \n",
      "2                    _                G    1000851875         52   \n",
      "3                    _                _    1000001126          _   \n",
      "4                    _                G    1000764639         50   \n",
      "\n",
      "  cont_sttus_itg_cd  new_date  ...  voc_dupl_tmscnt oos_cause_type_itg_cd  \\\n",
      "0             10001  19881005  ...                0                     _   \n",
      "1             10001  20130817  ...                0                     _   \n",
      "2             10001  20190509  ...                0                 10268   \n",
      "3             10001  20190731  ...                0                     _   \n",
      "4             10001  20180403  ...                0                     _   \n",
      "\n",
      "   voc_trt_need_time_itg_cd  engt_cperd_type_itg_cd engt_tgt_div_itg_cd  \\\n",
      "0                     10001                       _                   _   \n",
      "1                     10001                   15098               15244   \n",
      "2                     10001                   15097               15244   \n",
      "3                     10001                       _                   _   \n",
      "4                     10001                       _                   _   \n",
      "\n",
      "   cont_fns_pam_date voc_mis_pbls_yn fclt_oos_yn  \\\n",
      "0           99991231               N           _   \n",
      "1           20220319               N           _   \n",
      "2           20220508               N           N   \n",
      "3           99991231               N           _   \n",
      "4           99991231               N           _   \n",
      "\n",
      "   cust_snsry_base_conf_need_time trm_yn  \n",
      "0                               0      N  \n",
      "1                               0      N  \n",
      "2                               0      N  \n",
      "3                               0      N  \n",
      "4                               0      N  \n",
      "\n",
      "[5 rows x 23 columns]\n"
     ]
    }
   ],
   "source": [
    "# 여기에 답안코드를 작성하세요.\n",
    "# '_' 값의 비율 계산\n",
    "underscore_ratio = (df['voc_trt_perd_itg_cd'] == '_').mean()\n",
    "\n",
    "# 비율이 50%가 넘는 경우 컬럼 삭제\n",
    "if underscore_ratio > 0.5:\n",
    "    df1 = df.drop(columns=['voc_trt_perd_itg_cd'])\n",
    "else:\n",
    "    df1 = df.copy()  # 조건을 만족하지 않으면 원본 데이터프레임을 복사\n",
    "\n",
    "# 결과 확인\n",
    "print(df1.head())\n",
    "\n"
   ]
  },
  {
   "cell_type": "markdown",
   "metadata": {
    "id": "iWLm87o6qhLv"
   },
   "source": [
    "<br>\n",
    "<font color=blue>4-2. 'df1' DataFrame에서 '_' 값이 50% 이상되는 나머지 컬럼도 삭제하세요</font>"
   ]
  },
  {
   "cell_type": "code",
   "execution_count": 25,
   "metadata": {
    "colab": {
     "base_uri": "https://localhost:8080/"
    },
    "executionInfo": {
     "elapsed": 522,
     "status": "ok",
     "timestamp": 1731286165670,
     "user": {
      "displayName": "이예림 (겨울냥국)",
      "userId": "03592088159420229142"
     },
     "user_tz": -540
    },
    "id": "cktdczHuqhLv",
    "outputId": "ceca2c6f-6ec4-4265-9cd7-23b0158dcf18"
   },
   "outputs": [
    {
     "name": "stdout",
     "output_type": "stream",
     "text": [
      "   voc_prod_sbt_id  voc_wjt_sorc_id  voc_type_itg_cd  voc_sttus_itg_cd  \\\n",
      "0       1000665328             2153            10009             10002   \n",
      "1       1001028714             3311            10009             10002   \n",
      "2       1001028567             1575            10009             10002   \n",
      "3       1000665328             3546            10009             10002   \n",
      "4       1000779276             3086            10009             10002   \n",
      "\n",
      "  cust_clas_itg_cd  bprod_sbt_id age_itg_cd cont_sttus_itg_cd  new_date  \\\n",
      "0                F    1000001126         36             10001  19881005   \n",
      "1                G    1000852226         32             10001  20130817   \n",
      "2                G    1000851875         52             10001  20190509   \n",
      "3                _    1000001126          _             10001  20190731   \n",
      "4                G    1000764639         50             10001  20180403   \n",
      "\n",
      "   opn_nfl_chg_date cust_dtl_ctg_itg_cd  voc_trt_degr_div_itg_cd  \\\n",
      "0          19881005               10003                    20001   \n",
      "1          20130817               10002                    20001   \n",
      "2          20190509               10003                    20001   \n",
      "3          20190731               90024                    20001   \n",
      "4          20180403               90024                    20001   \n",
      "\n",
      "   voc_dupl_tmscnt  voc_trt_need_time_itg_cd  cont_fns_pam_date  \\\n",
      "0                0                     10001           99991231   \n",
      "1                0                     10001           20220319   \n",
      "2                0                     10001           20220508   \n",
      "3                0                     10001           99991231   \n",
      "4                0                     10001           99991231   \n",
      "\n",
      "  voc_mis_pbls_yn  cust_snsry_base_conf_need_time trm_yn  \n",
      "0               N                               0      N  \n",
      "1               N                               0      N  \n",
      "2               N                               0      N  \n",
      "3               N                               0      N  \n",
      "4               N                               0      N  \n"
     ]
    }
   ],
   "source": [
    "# 여기에 답안코드를 작성하세요.\n",
    "# 각 컬럼에서 '_' 값의 비율 계산\n",
    "columns_to_drop = [col for col in df1.columns if (df1[col] == '_').mean() > 0.5]\n",
    "\n",
    "# 해당 컬럼 삭제\n",
    "df1 = df1.drop(columns=columns_to_drop)\n",
    "\n",
    "# 결과 확인\n",
    "print(df1.head())"
   ]
  },
  {
   "cell_type": "markdown",
   "metadata": {
    "id": "Rb-Xi6z6qhLv"
   },
   "source": [
    "<br>\n",
    "<font color=blue>4-3. 'df1' DataFrame의 'cust_clas_itg_cd' 컬럼에 '_' 값이 몇 개 있는지 확인하여 출력하세요 </font>"
   ]
  },
  {
   "cell_type": "code",
   "execution_count": 26,
   "metadata": {
    "colab": {
     "base_uri": "https://localhost:8080/"
    },
    "executionInfo": {
     "elapsed": 373,
     "status": "ok",
     "timestamp": 1731286183970,
     "user": {
      "displayName": "이예림 (겨울냥국)",
      "userId": "03592088159420229142"
     },
     "user_tz": -540
    },
    "id": "KJmkdS6KqhLv",
    "outputId": "7bc95302-0be4-4dc0-98af-b042c6943c44"
   },
   "outputs": [
    {
     "name": "stdout",
     "output_type": "stream",
     "text": [
      "'_' 값의 개수: 1934\n"
     ]
    }
   ],
   "source": [
    "# 여기에 답안코드를 작성하세요.\n",
    "\n",
    "# 'cust_clas_itg_cd' 컬럼에서 '_' 값의 개수 계산\n",
    "underscore_count = (df1['cust_clas_itg_cd'] == '_').sum()\n",
    "\n",
    "# 결과 출력\n",
    "print(f\"'_' 값의 개수: {underscore_count}\")"
   ]
  },
  {
   "cell_type": "markdown",
   "metadata": {
    "id": "I0s46fzmqhLw"
   },
   "source": [
    "<br>\n",
    "<font color=blue>4-4. df1의 남아있는 '_'값을 null로 변경: DataFrame replace 함수를 사용해서 모든 컬럼에 대해 '_'값을 null로 변경하고 df2에 저장하세요.</font>"
   ]
  },
  {
   "cell_type": "code",
   "execution_count": 27,
   "metadata": {
    "colab": {
     "base_uri": "https://localhost:8080/"
    },
    "executionInfo": {
     "elapsed": 330,
     "status": "ok",
     "timestamp": 1731286202756,
     "user": {
      "displayName": "이예림 (겨울냥국)",
      "userId": "03592088159420229142"
     },
     "user_tz": -540
    },
    "id": "ROaFH7uiqhLw",
    "outputId": "c918b767-9f02-4fb0-9ef6-f649b94f7fce"
   },
   "outputs": [
    {
     "name": "stdout",
     "output_type": "stream",
     "text": [
      "   voc_prod_sbt_id  voc_wjt_sorc_id  voc_type_itg_cd  voc_sttus_itg_cd  \\\n",
      "0       1000665328             2153            10009             10002   \n",
      "1       1001028714             3311            10009             10002   \n",
      "2       1001028567             1575            10009             10002   \n",
      "3       1000665328             3546            10009             10002   \n",
      "4       1000779276             3086            10009             10002   \n",
      "\n",
      "  cust_clas_itg_cd  bprod_sbt_id age_itg_cd cont_sttus_itg_cd  new_date  \\\n",
      "0                F    1000001126         36             10001  19881005   \n",
      "1                G    1000852226         32             10001  20130817   \n",
      "2                G    1000851875         52             10001  20190509   \n",
      "3              NaN    1000001126        NaN             10001  20190731   \n",
      "4                G    1000764639         50             10001  20180403   \n",
      "\n",
      "   opn_nfl_chg_date cust_dtl_ctg_itg_cd  voc_trt_degr_div_itg_cd  \\\n",
      "0          19881005               10003                    20001   \n",
      "1          20130817               10002                    20001   \n",
      "2          20190509               10003                    20001   \n",
      "3          20190731               90024                    20001   \n",
      "4          20180403               90024                    20001   \n",
      "\n",
      "   voc_dupl_tmscnt  voc_trt_need_time_itg_cd  cont_fns_pam_date  \\\n",
      "0                0                     10001           99991231   \n",
      "1                0                     10001           20220319   \n",
      "2                0                     10001           20220508   \n",
      "3                0                     10001           99991231   \n",
      "4                0                     10001           99991231   \n",
      "\n",
      "  voc_mis_pbls_yn  cust_snsry_base_conf_need_time trm_yn  \n",
      "0               N                               0      N  \n",
      "1               N                               0      N  \n",
      "2               N                               0      N  \n",
      "3               N                               0      N  \n",
      "4               N                               0      N  \n"
     ]
    }
   ],
   "source": [
    "# 여기에 답안코드를 작성하세요.\n",
    "import pandas as pd\n",
    "import numpy as np\n",
    "\n",
    "# 모든 컬럼에서 '_' 값을 null로 변경\n",
    "df2 = df1.replace('_', np.nan)\n",
    "\n",
    "# 결과 확인\n",
    "print(df2.head())\n",
    "\n"
   ]
  },
  {
   "cell_type": "markdown",
   "metadata": {
    "id": "sEabqDSrqhLw"
   },
   "source": [
    "<br>\n",
    "<font color=blue>4-5. df2의 컬럼별 Null 갯수를 확인해보세요.</font>"
   ]
  },
  {
   "cell_type": "code",
   "execution_count": 28,
   "metadata": {
    "colab": {
     "base_uri": "https://localhost:8080/"
    },
    "executionInfo": {
     "elapsed": 366,
     "status": "ok",
     "timestamp": 1731286221478,
     "user": {
      "displayName": "이예림 (겨울냥국)",
      "userId": "03592088159420229142"
     },
     "user_tz": -540
    },
    "id": "ttM_1Cn1qhLw",
    "outputId": "4c9b7168-937e-4ecb-dda2-e465ba650ecf"
   },
   "outputs": [
    {
     "name": "stdout",
     "output_type": "stream",
     "text": [
      "voc_prod_sbt_id                      0\n",
      "voc_wjt_sorc_id                      0\n",
      "voc_type_itg_cd                      0\n",
      "voc_sttus_itg_cd                     0\n",
      "cust_clas_itg_cd                  1934\n",
      "bprod_sbt_id                         0\n",
      "age_itg_cd                        2129\n",
      "cont_sttus_itg_cd                 1168\n",
      "new_date                             0\n",
      "opn_nfl_chg_date                     0\n",
      "cust_dtl_ctg_itg_cd               1168\n",
      "voc_trt_degr_div_itg_cd              0\n",
      "voc_dupl_tmscnt                      0\n",
      "voc_trt_need_time_itg_cd             0\n",
      "cont_fns_pam_date                    0\n",
      "voc_mis_pbls_yn                     86\n",
      "cust_snsry_base_conf_need_time       0\n",
      "trm_yn                               0\n",
      "dtype: int64\n"
     ]
    }
   ],
   "source": [
    "# 여기에 답안코드를 작성하세요.\n",
    "\n",
    "# 각 컬럼별 Null 값의 개수 확인\n",
    "null_counts = df2.isnull().sum()\n",
    "\n",
    "# 결과 출력\n",
    "print(null_counts)\n"
   ]
  },
  {
   "cell_type": "markdown",
   "metadata": {
    "id": "50r8iZBDqhLw"
   },
   "source": [
    "<br>\n",
    "<font color=blue>4-6. df2 데이터프레임 컬럼들의 데이터타입을 확인하세요.</font>"
   ]
  },
  {
   "cell_type": "code",
   "execution_count": 29,
   "metadata": {
    "colab": {
     "base_uri": "https://localhost:8080/",
     "height": 649
    },
    "executionInfo": {
     "elapsed": 325,
     "status": "ok",
     "timestamp": 1731286255067,
     "user": {
      "displayName": "이예림 (겨울냥국)",
      "userId": "03592088159420229142"
     },
     "user_tz": -540
    },
    "id": "qcn2tOL0qhLw",
    "outputId": "3d6cfc7d-a851-4cc3-cf3b-2c8b5e9823ff"
   },
   "outputs": [
    {
     "data": {
      "text/html": [
       "<div>\n",
       "<style scoped>\n",
       "    .dataframe tbody tr th:only-of-type {\n",
       "        vertical-align: middle;\n",
       "    }\n",
       "\n",
       "    .dataframe tbody tr th {\n",
       "        vertical-align: top;\n",
       "    }\n",
       "\n",
       "    .dataframe thead th {\n",
       "        text-align: right;\n",
       "    }\n",
       "</style>\n",
       "<table border=\"1\" class=\"dataframe\">\n",
       "  <thead>\n",
       "    <tr style=\"text-align: right;\">\n",
       "      <th></th>\n",
       "      <th>0</th>\n",
       "    </tr>\n",
       "  </thead>\n",
       "  <tbody>\n",
       "    <tr>\n",
       "      <th>voc_prod_sbt_id</th>\n",
       "      <td>int64</td>\n",
       "    </tr>\n",
       "    <tr>\n",
       "      <th>voc_wjt_sorc_id</th>\n",
       "      <td>int64</td>\n",
       "    </tr>\n",
       "    <tr>\n",
       "      <th>voc_type_itg_cd</th>\n",
       "      <td>int64</td>\n",
       "    </tr>\n",
       "    <tr>\n",
       "      <th>voc_sttus_itg_cd</th>\n",
       "      <td>int64</td>\n",
       "    </tr>\n",
       "    <tr>\n",
       "      <th>cust_clas_itg_cd</th>\n",
       "      <td>object</td>\n",
       "    </tr>\n",
       "    <tr>\n",
       "      <th>bprod_sbt_id</th>\n",
       "      <td>int64</td>\n",
       "    </tr>\n",
       "    <tr>\n",
       "      <th>age_itg_cd</th>\n",
       "      <td>object</td>\n",
       "    </tr>\n",
       "    <tr>\n",
       "      <th>cont_sttus_itg_cd</th>\n",
       "      <td>object</td>\n",
       "    </tr>\n",
       "    <tr>\n",
       "      <th>new_date</th>\n",
       "      <td>int64</td>\n",
       "    </tr>\n",
       "    <tr>\n",
       "      <th>opn_nfl_chg_date</th>\n",
       "      <td>int64</td>\n",
       "    </tr>\n",
       "    <tr>\n",
       "      <th>cust_dtl_ctg_itg_cd</th>\n",
       "      <td>object</td>\n",
       "    </tr>\n",
       "    <tr>\n",
       "      <th>voc_trt_degr_div_itg_cd</th>\n",
       "      <td>int64</td>\n",
       "    </tr>\n",
       "    <tr>\n",
       "      <th>voc_dupl_tmscnt</th>\n",
       "      <td>int64</td>\n",
       "    </tr>\n",
       "    <tr>\n",
       "      <th>voc_trt_need_time_itg_cd</th>\n",
       "      <td>int64</td>\n",
       "    </tr>\n",
       "    <tr>\n",
       "      <th>cont_fns_pam_date</th>\n",
       "      <td>int64</td>\n",
       "    </tr>\n",
       "    <tr>\n",
       "      <th>voc_mis_pbls_yn</th>\n",
       "      <td>object</td>\n",
       "    </tr>\n",
       "    <tr>\n",
       "      <th>cust_snsry_base_conf_need_time</th>\n",
       "      <td>int64</td>\n",
       "    </tr>\n",
       "    <tr>\n",
       "      <th>trm_yn</th>\n",
       "      <td>object</td>\n",
       "    </tr>\n",
       "  </tbody>\n",
       "</table>\n",
       "</div><br><label><b>dtype:</b> object</label>"
      ],
      "text/plain": [
       "voc_prod_sbt_id                    int64\n",
       "voc_wjt_sorc_id                    int64\n",
       "voc_type_itg_cd                    int64\n",
       "voc_sttus_itg_cd                   int64\n",
       "cust_clas_itg_cd                  object\n",
       "bprod_sbt_id                       int64\n",
       "age_itg_cd                        object\n",
       "cont_sttus_itg_cd                 object\n",
       "new_date                           int64\n",
       "opn_nfl_chg_date                   int64\n",
       "cust_dtl_ctg_itg_cd               object\n",
       "voc_trt_degr_div_itg_cd            int64\n",
       "voc_dupl_tmscnt                    int64\n",
       "voc_trt_need_time_itg_cd           int64\n",
       "cont_fns_pam_date                  int64\n",
       "voc_mis_pbls_yn                   object\n",
       "cust_snsry_base_conf_need_time     int64\n",
       "trm_yn                            object\n",
       "dtype: object"
      ]
     },
     "execution_count": 29,
     "metadata": {},
     "output_type": "execute_result"
    }
   ],
   "source": [
    "# 여기에 답안코드를 작성하세요.\n",
    "# 각 컬럼의 데이터타입 확인\n",
    "df2.dtypes\n",
    "\n",
    "\n"
   ]
  },
  {
   "cell_type": "markdown",
   "metadata": {
    "id": "DDswPysbqhLw"
   },
   "source": [
    "<br>\n",
    "<font color=blue>4-7. df2 데이터프레임에 대해 먼저, 'cust_clas_itg_cd' 컬럼의 최빈값을 확인하는 코드로 확인하고 다음으로, 이 컬럼의 Null 값을 최빈값으로 변경하세요(fillna 함수 사용). 처리된 데이터프레임은 df3에 저장하세요</font>"
   ]
  },
  {
   "cell_type": "code",
   "execution_count": 31,
   "metadata": {
    "colab": {
     "base_uri": "https://localhost:8080/"
    },
    "executionInfo": {
     "elapsed": 315,
     "status": "ok",
     "timestamp": 1731286285298,
     "user": {
      "displayName": "이예림 (겨울냥국)",
      "userId": "03592088159420229142"
     },
     "user_tz": -540
    },
    "id": "1Fr7aGFYqhLw",
    "outputId": "9e008edf-9f1a-43d6-dd72-987ecd0f583d"
   },
   "outputs": [
    {
     "name": "stdout",
     "output_type": "stream",
     "text": [
      "최빈값: L\n",
      "   voc_prod_sbt_id  voc_wjt_sorc_id  voc_type_itg_cd  voc_sttus_itg_cd  \\\n",
      "0       1000665328             2153            10009             10002   \n",
      "1       1001028714             3311            10009             10002   \n",
      "2       1001028567             1575            10009             10002   \n",
      "3       1000665328             3546            10009             10002   \n",
      "4       1000779276             3086            10009             10002   \n",
      "\n",
      "  cust_clas_itg_cd  bprod_sbt_id age_itg_cd cont_sttus_itg_cd  new_date  \\\n",
      "0                F    1000001126         36             10001  19881005   \n",
      "1                G    1000852226         32             10001  20130817   \n",
      "2                G    1000851875         52             10001  20190509   \n",
      "3                L    1000001126        NaN             10001  20190731   \n",
      "4                G    1000764639         50             10001  20180403   \n",
      "\n",
      "   opn_nfl_chg_date cust_dtl_ctg_itg_cd  voc_trt_degr_div_itg_cd  \\\n",
      "0          19881005               10003                    20001   \n",
      "1          20130817               10002                    20001   \n",
      "2          20190509               10003                    20001   \n",
      "3          20190731               90024                    20001   \n",
      "4          20180403               90024                    20001   \n",
      "\n",
      "   voc_dupl_tmscnt  voc_trt_need_time_itg_cd  cont_fns_pam_date  \\\n",
      "0                0                     10001           99991231   \n",
      "1                0                     10001           20220319   \n",
      "2                0                     10001           20220508   \n",
      "3                0                     10001           99991231   \n",
      "4                0                     10001           99991231   \n",
      "\n",
      "  voc_mis_pbls_yn  cust_snsry_base_conf_need_time trm_yn  \n",
      "0               N                               0      N  \n",
      "1               N                               0      N  \n",
      "2               N                               0      N  \n",
      "3               N                               0      N  \n",
      "4               N                               0      N  \n"
     ]
    }
   ],
   "source": [
    "# 여기에 답안코드를 작성하세요.\n",
    "\n",
    "# 'cust_clas_itg_cd' 컬럼의 최빈값 확인\n",
    "mode_value = df2['cust_clas_itg_cd'].mode()[0]\n",
    "print(f\"최빈값: {mode_value}\")\n",
    "\n",
    "# Null 값을 최빈값으로 변경\n",
    "df3 = df2['cust_clas_itg_cd'].fillna(mode_value)\n",
    "\n",
    "# 결과를 df2의 나머지 컬럼과 합쳐서 df3에 저장\n",
    "df3 = df2.copy()\n",
    "df3['cust_clas_itg_cd'] = df3['cust_clas_itg_cd'].fillna(mode_value)\n",
    "\n",
    "# 결과 확인\n",
    "print(df3.head())\n"
   ]
  },
  {
   "cell_type": "markdown",
   "metadata": {
    "id": "ITedkNfnqhLx"
   },
   "source": [
    "<br>\n",
    "<font color=blue>4-8. df3에 대해 'age_itg_cd'의 null 값을 중앙값(median)으로 변경하고 데이터 타입을 정수(int)로 변경하세요. 데이터 처리 후 데이터프레임을 df4에 저장하세요.</font>"
   ]
  },
  {
   "cell_type": "code",
   "execution_count": 33,
   "metadata": {
    "colab": {
     "base_uri": "https://localhost:8080/"
    },
    "executionInfo": {
     "elapsed": 327,
     "status": "ok",
     "timestamp": 1731286356874,
     "user": {
      "displayName": "이예림 (겨울냥국)",
      "userId": "03592088159420229142"
     },
     "user_tz": -540
    },
    "id": "GCxebJlsqhLx",
    "outputId": "a556689f-76bb-4b16-faa1-9ec1c1e6c8c9"
   },
   "outputs": [
    {
     "name": "stdout",
     "output_type": "stream",
     "text": [
      "   voc_prod_sbt_id  voc_wjt_sorc_id  voc_type_itg_cd  voc_sttus_itg_cd  \\\n",
      "0       1000665328             2153            10009             10002   \n",
      "1       1001028714             3311            10009             10002   \n",
      "2       1001028567             1575            10009             10002   \n",
      "3       1000665328             3546            10009             10002   \n",
      "4       1000779276             3086            10009             10002   \n",
      "\n",
      "  cust_clas_itg_cd  bprod_sbt_id  age_itg_cd cont_sttus_itg_cd  new_date  \\\n",
      "0                F    1000001126          36             10001  19881005   \n",
      "1                G    1000852226          32             10001  20130817   \n",
      "2                G    1000851875          52             10001  20190509   \n",
      "3                L    1000001126          49             10001  20190731   \n",
      "4                G    1000764639          50             10001  20180403   \n",
      "\n",
      "   opn_nfl_chg_date cust_dtl_ctg_itg_cd  voc_trt_degr_div_itg_cd  \\\n",
      "0          19881005               10003                    20001   \n",
      "1          20130817               10002                    20001   \n",
      "2          20190509               10003                    20001   \n",
      "3          20190731               90024                    20001   \n",
      "4          20180403               90024                    20001   \n",
      "\n",
      "   voc_dupl_tmscnt  voc_trt_need_time_itg_cd  cont_fns_pam_date  \\\n",
      "0                0                     10001           99991231   \n",
      "1                0                     10001           20220319   \n",
      "2                0                     10001           20220508   \n",
      "3                0                     10001           99991231   \n",
      "4                0                     10001           99991231   \n",
      "\n",
      "  voc_mis_pbls_yn  cust_snsry_base_conf_need_time trm_yn  \n",
      "0               N                               0      N  \n",
      "1               N                               0      N  \n",
      "2               N                               0      N  \n",
      "3               N                               0      N  \n",
      "4               N                               0      N  \n"
     ]
    }
   ],
   "source": [
    "# 여기에 답안코드를 작성하세요.\n",
    "\n",
    "# 'age_itg_cd' 컬럼을 숫자형으로 변환 (문자열에서 숫자로)\n",
    "df3['age_itg_cd'] = pd.to_numeric(df3['age_itg_cd'], errors='coerce')\n",
    "\n",
    "# 중앙값 계산\n",
    "median_value = df3['age_itg_cd'].median()\n",
    "\n",
    "# Null 값을 중앙값으로 변경\n",
    "df4 = df3.copy()\n",
    "df4['age_itg_cd'] = df4['age_itg_cd'].fillna(median_value)\n",
    "\n",
    "# 데이터 타입을 정수(int)로 변경\n",
    "df4['age_itg_cd'] = df4['age_itg_cd'].astype(int)\n",
    "\n",
    "# 결과 확인\n",
    "print(df4.head())\n",
    "\n"
   ]
  },
  {
   "cell_type": "markdown",
   "metadata": {
    "id": "8LQkkT4rqhLx"
   },
   "source": [
    "<br>\n",
    "<font color=blue>4-9. df4에 대해 'cont_sttus_itg_cd'의 null 값을 최빈값(mode)으로 변경하세요. 데이터 처리 후 데이터프레임을 df5에 저장하세요.</font>"
   ]
  },
  {
   "cell_type": "code",
   "execution_count": 34,
   "metadata": {
    "colab": {
     "base_uri": "https://localhost:8080/"
    },
    "executionInfo": {
     "elapsed": 341,
     "status": "ok",
     "timestamp": 1731286377588,
     "user": {
      "displayName": "이예림 (겨울냥국)",
      "userId": "03592088159420229142"
     },
     "user_tz": -540
    },
    "id": "0ueS0MNHqhLx",
    "outputId": "b3083217-56f1-4a8d-9c4c-f4c8d2ff0a75"
   },
   "outputs": [
    {
     "name": "stdout",
     "output_type": "stream",
     "text": [
      "   voc_prod_sbt_id  voc_wjt_sorc_id  voc_type_itg_cd  voc_sttus_itg_cd  \\\n",
      "0       1000665328             2153            10009             10002   \n",
      "1       1001028714             3311            10009             10002   \n",
      "2       1001028567             1575            10009             10002   \n",
      "3       1000665328             3546            10009             10002   \n",
      "4       1000779276             3086            10009             10002   \n",
      "\n",
      "  cust_clas_itg_cd  bprod_sbt_id  age_itg_cd cont_sttus_itg_cd  new_date  \\\n",
      "0                F    1000001126          36             10001  19881005   \n",
      "1                G    1000852226          32             10001  20130817   \n",
      "2                G    1000851875          52             10001  20190509   \n",
      "3                L    1000001126          49             10001  20190731   \n",
      "4                G    1000764639          50             10001  20180403   \n",
      "\n",
      "   opn_nfl_chg_date cust_dtl_ctg_itg_cd  voc_trt_degr_div_itg_cd  \\\n",
      "0          19881005               10003                    20001   \n",
      "1          20130817               10002                    20001   \n",
      "2          20190509               10003                    20001   \n",
      "3          20190731               90024                    20001   \n",
      "4          20180403               90024                    20001   \n",
      "\n",
      "   voc_dupl_tmscnt  voc_trt_need_time_itg_cd  cont_fns_pam_date  \\\n",
      "0                0                     10001           99991231   \n",
      "1                0                     10001           20220319   \n",
      "2                0                     10001           20220508   \n",
      "3                0                     10001           99991231   \n",
      "4                0                     10001           99991231   \n",
      "\n",
      "  voc_mis_pbls_yn  cust_snsry_base_conf_need_time trm_yn  \n",
      "0               N                               0      N  \n",
      "1               N                               0      N  \n",
      "2               N                               0      N  \n",
      "3               N                               0      N  \n",
      "4               N                               0      N  \n"
     ]
    }
   ],
   "source": [
    "# 여기에 답안코드를 작성하세요.\n",
    "\n",
    "# 'cont_sttus_itg_cd' 컬럼의 최빈값 계산\n",
    "mode_value = df4['cont_sttus_itg_cd'].mode()[0]\n",
    "\n",
    "# Null 값을 최빈값으로 변경\n",
    "df5 = df4.copy()\n",
    "df5['cont_sttus_itg_cd'] = df5['cont_sttus_itg_cd'].fillna(mode_value)\n",
    "\n",
    "# 결과 확인\n",
    "print(df5.head())\n"
   ]
  },
  {
   "cell_type": "markdown",
   "metadata": {
    "id": "ZDpMCP8YqhLx"
   },
   "source": [
    "<br>\n",
    "<font color=blue>4-10. df5에 대해 'cust_dtl_ctg_itg_cd'의 null 값을 최빈값(mode)으로 변경하세요</font>"
   ]
  },
  {
   "cell_type": "code",
   "execution_count": 35,
   "metadata": {
    "colab": {
     "base_uri": "https://localhost:8080/"
    },
    "executionInfo": {
     "elapsed": 361,
     "status": "ok",
     "timestamp": 1731286399181,
     "user": {
      "displayName": "이예림 (겨울냥국)",
      "userId": "03592088159420229142"
     },
     "user_tz": -540
    },
    "id": "z5uIbMZdqhLx",
    "outputId": "db14a552-c016-4a57-9c70-f772b17099e3"
   },
   "outputs": [
    {
     "name": "stdout",
     "output_type": "stream",
     "text": [
      "   voc_prod_sbt_id  voc_wjt_sorc_id  voc_type_itg_cd  voc_sttus_itg_cd  \\\n",
      "0       1000665328             2153            10009             10002   \n",
      "1       1001028714             3311            10009             10002   \n",
      "2       1001028567             1575            10009             10002   \n",
      "3       1000665328             3546            10009             10002   \n",
      "4       1000779276             3086            10009             10002   \n",
      "\n",
      "  cust_clas_itg_cd  bprod_sbt_id  age_itg_cd cont_sttus_itg_cd  new_date  \\\n",
      "0                F    1000001126          36             10001  19881005   \n",
      "1                G    1000852226          32             10001  20130817   \n",
      "2                G    1000851875          52             10001  20190509   \n",
      "3                L    1000001126          49             10001  20190731   \n",
      "4                G    1000764639          50             10001  20180403   \n",
      "\n",
      "   opn_nfl_chg_date cust_dtl_ctg_itg_cd  voc_trt_degr_div_itg_cd  \\\n",
      "0          19881005               10003                    20001   \n",
      "1          20130817               10002                    20001   \n",
      "2          20190509               10003                    20001   \n",
      "3          20190731               90024                    20001   \n",
      "4          20180403               90024                    20001   \n",
      "\n",
      "   voc_dupl_tmscnt  voc_trt_need_time_itg_cd  cont_fns_pam_date  \\\n",
      "0                0                     10001           99991231   \n",
      "1                0                     10001           20220319   \n",
      "2                0                     10001           20220508   \n",
      "3                0                     10001           99991231   \n",
      "4                0                     10001           99991231   \n",
      "\n",
      "  voc_mis_pbls_yn  cust_snsry_base_conf_need_time trm_yn  \n",
      "0               N                               0      N  \n",
      "1               N                               0      N  \n",
      "2               N                               0      N  \n",
      "3               N                               0      N  \n",
      "4               N                               0      N  \n"
     ]
    }
   ],
   "source": [
    "# 여기에 답안코드를 작성하세요.\n",
    "\n",
    "# 'cust_dtl_ctg_itg_cd' 컬럼의 최빈값 계산\n",
    "mode_value = df5['cust_dtl_ctg_itg_cd'].mode()[0]\n",
    "\n",
    "# Null 값을 최빈값으로 변경\n",
    "df5['cust_dtl_ctg_itg_cd'] = df5['cust_dtl_ctg_itg_cd'].fillna(mode_value)\n",
    "\n",
    "# 결과 확인\n",
    "print(df5.head())\n"
   ]
  },
  {
   "cell_type": "markdown",
   "metadata": {
    "id": "6cJgkzB-qhLx"
   },
   "source": [
    "<br>\n",
    "<font color=blue>4-11. df5에 대해 다음 날짜 관련 컬럼을 확인 후 삭제하세요. (날짜 관련 컬럼: new_date, opn_nfl_chg_date, cont_fns_pam_date)</font>"
   ]
  },
  {
   "cell_type": "code",
   "execution_count": 36,
   "metadata": {
    "colab": {
     "base_uri": "https://localhost:8080/"
    },
    "executionInfo": {
     "elapsed": 322,
     "status": "ok",
     "timestamp": 1731286425952,
     "user": {
      "displayName": "이예림 (겨울냥국)",
      "userId": "03592088159420229142"
     },
     "user_tz": -540
    },
    "id": "VOqjwBelqhLx",
    "outputId": "4fc79032-ac6f-40aa-a8ee-b585c8ae4b8d"
   },
   "outputs": [
    {
     "name": "stdout",
     "output_type": "stream",
     "text": [
      "   voc_prod_sbt_id  voc_wjt_sorc_id  voc_type_itg_cd  voc_sttus_itg_cd  \\\n",
      "0       1000665328             2153            10009             10002   \n",
      "1       1001028714             3311            10009             10002   \n",
      "2       1001028567             1575            10009             10002   \n",
      "3       1000665328             3546            10009             10002   \n",
      "4       1000779276             3086            10009             10002   \n",
      "\n",
      "  cust_clas_itg_cd  bprod_sbt_id  age_itg_cd cont_sttus_itg_cd  \\\n",
      "0                F    1000001126          36             10001   \n",
      "1                G    1000852226          32             10001   \n",
      "2                G    1000851875          52             10001   \n",
      "3                L    1000001126          49             10001   \n",
      "4                G    1000764639          50             10001   \n",
      "\n",
      "  cust_dtl_ctg_itg_cd  voc_trt_degr_div_itg_cd  voc_dupl_tmscnt  \\\n",
      "0               10003                    20001                0   \n",
      "1               10002                    20001                0   \n",
      "2               10003                    20001                0   \n",
      "3               90024                    20001                0   \n",
      "4               90024                    20001                0   \n",
      "\n",
      "   voc_trt_need_time_itg_cd voc_mis_pbls_yn  cust_snsry_base_conf_need_time  \\\n",
      "0                     10001               N                               0   \n",
      "1                     10001               N                               0   \n",
      "2                     10001               N                               0   \n",
      "3                     10001               N                               0   \n",
      "4                     10001               N                               0   \n",
      "\n",
      "  trm_yn  \n",
      "0      N  \n",
      "1      N  \n",
      "2      N  \n",
      "3      N  \n",
      "4      N  \n"
     ]
    }
   ],
   "source": [
    "# 여기에 답안코드를 작성하세요.\n",
    "\n",
    "# 삭제할 날짜 관련 컬럼 리스트\n",
    "date_columns = ['new_date', 'opn_nfl_chg_date', 'cont_fns_pam_date']\n",
    "\n",
    "# 해당 컬럼이 존재하는 경우 삭제\n",
    "df5 = df5.drop(columns=[col for col in date_columns if col in df5.columns])\n",
    "\n",
    "# 결과 확인\n",
    "print(df5.head())\n"
   ]
  },
  {
   "cell_type": "markdown",
   "metadata": {
    "id": "eGHSJqzWqhLy"
   },
   "source": [
    "<br>\n",
    "<font color=blue>4-12. df5에 대해 'voc_mis_pbls_yn' 컬럼을 삭제하세요.</font>"
   ]
  },
  {
   "cell_type": "code",
   "execution_count": 37,
   "metadata": {
    "colab": {
     "base_uri": "https://localhost:8080/"
    },
    "executionInfo": {
     "elapsed": 322,
     "status": "ok",
     "timestamp": 1731286442304,
     "user": {
      "displayName": "이예림 (겨울냥국)",
      "userId": "03592088159420229142"
     },
     "user_tz": -540
    },
    "id": "jySeCVDsqhLy",
    "outputId": "f400dca2-81d9-4b22-9986-701c0d947860"
   },
   "outputs": [
    {
     "name": "stdout",
     "output_type": "stream",
     "text": [
      "   voc_prod_sbt_id  voc_wjt_sorc_id  voc_type_itg_cd  voc_sttus_itg_cd  \\\n",
      "0       1000665328             2153            10009             10002   \n",
      "1       1001028714             3311            10009             10002   \n",
      "2       1001028567             1575            10009             10002   \n",
      "3       1000665328             3546            10009             10002   \n",
      "4       1000779276             3086            10009             10002   \n",
      "\n",
      "  cust_clas_itg_cd  bprod_sbt_id  age_itg_cd cont_sttus_itg_cd  \\\n",
      "0                F    1000001126          36             10001   \n",
      "1                G    1000852226          32             10001   \n",
      "2                G    1000851875          52             10001   \n",
      "3                L    1000001126          49             10001   \n",
      "4                G    1000764639          50             10001   \n",
      "\n",
      "  cust_dtl_ctg_itg_cd  voc_trt_degr_div_itg_cd  voc_dupl_tmscnt  \\\n",
      "0               10003                    20001                0   \n",
      "1               10002                    20001                0   \n",
      "2               10003                    20001                0   \n",
      "3               90024                    20001                0   \n",
      "4               90024                    20001                0   \n",
      "\n",
      "   voc_trt_need_time_itg_cd  cust_snsry_base_conf_need_time trm_yn  \n",
      "0                     10001                               0      N  \n",
      "1                     10001                               0      N  \n",
      "2                     10001                               0      N  \n",
      "3                     10001                               0      N  \n",
      "4                     10001                               0      N  \n"
     ]
    }
   ],
   "source": [
    "# 여기에 답안코드를 작성하세요.\n",
    "\n",
    "# 'voc_mis_pbls_yn' 컬럼 삭제\n",
    "df5 = df5.drop(columns='voc_mis_pbls_yn', errors='ignore')\n",
    "\n",
    "# 결과 확인\n",
    "print(df5.head())\n"
   ]
  },
  {
   "cell_type": "markdown",
   "metadata": {
    "id": "2Esviw6PqhLy"
   },
   "source": [
    "## **<span style=\"color:black\">5. 라벨 인코딩, 원핫 인코딩</span>**"
   ]
  },
  {
   "cell_type": "markdown",
   "metadata": {
    "id": "eUFPY-8eqhLy"
   },
   "source": [
    "<br>\n",
    "<font color=blue>5-1. df5에 대해 object 타입 컬럼을 cat_cols에 저장하세요. 그 중 cat_cols의 cust_clas_itg_cd 컬럼에 대해 LabelEncoder를 적용해보세요. (적용 후 df5에 저장)</font>"
   ]
  },
  {
   "cell_type": "code",
   "execution_count": 38,
   "metadata": {
    "colab": {
     "base_uri": "https://localhost:8080/"
    },
    "executionInfo": {
     "elapsed": 1988,
     "status": "ok",
     "timestamp": 1731286468328,
     "user": {
      "displayName": "이예림 (겨울냥국)",
      "userId": "03592088159420229142"
     },
     "user_tz": -540
    },
    "id": "_toguCdIqhLy",
    "outputId": "dc5be52e-6b7d-4da1-a40b-c121619676ee"
   },
   "outputs": [
    {
     "name": "stdout",
     "output_type": "stream",
     "text": [
      "   voc_prod_sbt_id  voc_wjt_sorc_id  voc_type_itg_cd  voc_sttus_itg_cd  \\\n",
      "0       1000665328             2153            10009             10002   \n",
      "1       1001028714             3311            10009             10002   \n",
      "2       1001028567             1575            10009             10002   \n",
      "3       1000665328             3546            10009             10002   \n",
      "4       1000779276             3086            10009             10002   \n",
      "\n",
      "   cust_clas_itg_cd  bprod_sbt_id  age_itg_cd cont_sttus_itg_cd  \\\n",
      "0                 0    1000001126          36             10001   \n",
      "1                 1    1000852226          32             10001   \n",
      "2                 1    1000851875          52             10001   \n",
      "3                 5    1000001126          49             10001   \n",
      "4                 1    1000764639          50             10001   \n",
      "\n",
      "  cust_dtl_ctg_itg_cd  voc_trt_degr_div_itg_cd  voc_dupl_tmscnt  \\\n",
      "0               10003                    20001                0   \n",
      "1               10002                    20001                0   \n",
      "2               10003                    20001                0   \n",
      "3               90024                    20001                0   \n",
      "4               90024                    20001                0   \n",
      "\n",
      "   voc_trt_need_time_itg_cd  cust_snsry_base_conf_need_time trm_yn  \n",
      "0                     10001                               0      N  \n",
      "1                     10001                               0      N  \n",
      "2                     10001                               0      N  \n",
      "3                     10001                               0      N  \n",
      "4                     10001                               0      N  \n"
     ]
    }
   ],
   "source": [
    "# 여기에 답안코드를 작성하세요.\n",
    "\n",
    "import pandas as pd\n",
    "from sklearn.preprocessing import LabelEncoder\n",
    "\n",
    "# object 타입 컬럼을 cat_cols에 저장\n",
    "cat_cols = df5.select_dtypes(include=['object']).columns.tolist()\n",
    "\n",
    "# LabelEncoder 초기화\n",
    "label_encoder = LabelEncoder()\n",
    "\n",
    "# 'cust_clas_itg_cd' 컬럼에 LabelEncoder 적용\n",
    "df5['cust_clas_itg_cd'] = label_encoder.fit_transform(df5['cust_clas_itg_cd'])\n",
    "\n",
    "# 결과 확인\n",
    "print(df5.head())\n"
   ]
  },
  {
   "cell_type": "markdown",
   "metadata": {
    "id": "QYEeIKmqqhLy"
   },
   "source": [
    "<br>\n",
    "<font color=blue>5-2. df5의 나머지 object 컬럼에 대해서 One-Hot Encoding될수 있도록 Pandas의 get_dummies 함수를 적용하세요. (적용 후 df6에 저장)</font>"
   ]
  },
  {
   "cell_type": "code",
   "execution_count": 39,
   "metadata": {
    "colab": {
     "base_uri": "https://localhost:8080/"
    },
    "executionInfo": {
     "elapsed": 323,
     "status": "ok",
     "timestamp": 1731286502374,
     "user": {
      "displayName": "이예림 (겨울냥국)",
      "userId": "03592088159420229142"
     },
     "user_tz": -540
    },
    "id": "2J-iBdbGqhLy",
    "outputId": "3b8d2a9b-0e2d-4d02-ceec-c1071a4767d5"
   },
   "outputs": [
    {
     "name": "stdout",
     "output_type": "stream",
     "text": [
      "   voc_prod_sbt_id  voc_wjt_sorc_id  voc_type_itg_cd  voc_sttus_itg_cd  \\\n",
      "0       1000665328             2153            10009             10002   \n",
      "1       1001028714             3311            10009             10002   \n",
      "2       1001028567             1575            10009             10002   \n",
      "3       1000665328             3546            10009             10002   \n",
      "4       1000779276             3086            10009             10002   \n",
      "\n",
      "   bprod_sbt_id  age_itg_cd  voc_trt_degr_div_itg_cd  voc_dupl_tmscnt  \\\n",
      "0    1000001126          36                    20001                0   \n",
      "1    1000852226          32                    20001                0   \n",
      "2    1000851875          52                    20001                0   \n",
      "3    1000001126          49                    20001                0   \n",
      "4    1000764639          50                    20001                0   \n",
      "\n",
      "   voc_trt_need_time_itg_cd  cust_snsry_base_conf_need_time  ...  \\\n",
      "0                     10001                               0  ...   \n",
      "1                     10001                               0  ...   \n",
      "2                     10001                               0  ...   \n",
      "3                     10001                               0  ...   \n",
      "4                     10001                               0  ...   \n",
      "\n",
      "   cust_dtl_ctg_itg_cd_10004  cust_dtl_ctg_itg_cd_10011  \\\n",
      "0                      False                      False   \n",
      "1                      False                      False   \n",
      "2                      False                      False   \n",
      "3                      False                      False   \n",
      "4                      False                      False   \n",
      "\n",
      "   cust_dtl_ctg_itg_cd_10018  cust_dtl_ctg_itg_cd_10019  \\\n",
      "0                      False                      False   \n",
      "1                      False                      False   \n",
      "2                      False                      False   \n",
      "3                      False                      False   \n",
      "4                      False                      False   \n",
      "\n",
      "   cust_dtl_ctg_itg_cd_90024  cust_dtl_ctg_itg_cd_90027  \\\n",
      "0                      False                      False   \n",
      "1                      False                      False   \n",
      "2                      False                      False   \n",
      "3                       True                      False   \n",
      "4                       True                      False   \n",
      "\n",
      "   cust_dtl_ctg_itg_cd_90029  cust_dtl_ctg_itg_cd_90030  \\\n",
      "0                      False                      False   \n",
      "1                      False                      False   \n",
      "2                      False                      False   \n",
      "3                      False                      False   \n",
      "4                      False                      False   \n",
      "\n",
      "   cust_dtl_ctg_itg_cd_90056  trm_yn_Y  \n",
      "0                      False     False  \n",
      "1                      False     False  \n",
      "2                      False     False  \n",
      "3                      False     False  \n",
      "4                      False     False  \n",
      "\n",
      "[5 rows x 35 columns]\n"
     ]
    }
   ],
   "source": [
    "# 여기에 답안코드를 작성하세요.\n",
    "\n",
    "# 나머지 object 컬럼에 대한 One-Hot Encoding 적용\n",
    "df6 = pd.get_dummies(df5, columns=cat_cols, drop_first=True)\n",
    "\n",
    "# 결과 확인\n",
    "print(df6.head())\n"
   ]
  },
  {
   "cell_type": "markdown",
   "metadata": {
    "id": "LDz2GYFtqhLy"
   },
   "source": [
    "## **<span style=\"color:black\">6. x,y 데이터 분리</span>**"
   ]
  },
  {
   "cell_type": "markdown",
   "metadata": {
    "id": "E0MN_P2wqhLz"
   },
   "source": [
    "<br>\n",
    "<font color=blue>6-1. df6에 대해 X, y 값을 가지고 8:2 비율로 Train , Test Dataset으로 나누세요. (y 클래스 비율에 맞게 분리, y 값은 'trm_yn_Y' 컬럼, random_state는 42)</font>"
   ]
  },
  {
   "cell_type": "code",
   "execution_count": 41,
   "metadata": {
    "colab": {
     "base_uri": "https://localhost:8080/"
    },
    "executionInfo": {
     "elapsed": 337,
     "status": "ok",
     "timestamp": 1731286580673,
     "user": {
      "displayName": "이예림 (겨울냥국)",
      "userId": "03592088159420229142"
     },
     "user_tz": -540
    },
    "id": "lmlewhq6qhLz",
    "outputId": "451e7678-c20c-4e7e-8e7d-5b11b0a6b436"
   },
   "outputs": [
    {
     "name": "stdout",
     "output_type": "stream",
     "text": [
      "X_train shape: (8000, 34)\n",
      "X_test shape: (2000, 34)\n",
      "y_train shape: (8000,)\n",
      "y_test shape: (2000,)\n"
     ]
    }
   ],
   "source": [
    "# 여기에 답안코드를 작성하세요.\n",
    "\n",
    "from sklearn.model_selection import train_test_split\n",
    "\n",
    "# X와 y 정의\n",
    "x = df6.drop(columns=['trm_yn_Y'])\n",
    "y = df6['trm_yn_Y']\n",
    "\n",
    "# Train, Test Dataset으로 나누기 (8:2 비율, y 클래스 비율에 맞게 분리)\n",
    "x_train, x_test, y_train, y_test = train_test_split(x, y, test_size=0.2, stratify=y, random_state=42)\n",
    "\n",
    "# 결과 확인\n",
    "print(\"X_train shape:\", x_train.shape)\n",
    "print(\"X_test shape:\", x_test.shape)\n",
    "print(\"y_train shape:\", y_train.shape)\n",
    "print(\"y_test shape:\", y_test.shape)\n"
   ]
  },
  {
   "cell_type": "markdown",
   "metadata": {
    "id": "AEH8U8EBqhLz"
   },
   "source": [
    "<br>"
   ]
  },
  {
   "cell_type": "markdown",
   "metadata": {
    "id": "ZYWMwzK7qhLz"
   },
   "source": [
    "## **<span style=\"color:black\">7. 데이터 정규분포화, 표준화</span>**"
   ]
  },
  {
   "cell_type": "markdown",
   "metadata": {
    "id": "mZa1dGjSqhLz"
   },
   "source": [
    "<br>\n",
    "<font color=blue>7-1. 사이킷런의 StandardScaler로 훈련데이터셋은 정규분포화(fit_transform)하고 테스트 데이터셋은 표준화(transform)하세요.</font>"
   ]
  },
  {
   "cell_type": "code",
   "execution_count": 42,
   "metadata": {
    "colab": {
     "base_uri": "https://localhost:8080/"
    },
    "executionInfo": {
     "elapsed": 339,
     "status": "ok",
     "timestamp": 1731286634087,
     "user": {
      "displayName": "이예림 (겨울냥국)",
      "userId": "03592088159420229142"
     },
     "user_tz": -540
    },
    "id": "K4IWE6pLqhLz",
    "outputId": "c9a81d7c-9962-4125-f150-a07bd33f5d44"
   },
   "outputs": [
    {
     "name": "stdout",
     "output_type": "stream",
     "text": [
      "Scaled x_train shape: (8000, 34)\n",
      "Scaled x_test shape: (2000, 34)\n"
     ]
    }
   ],
   "source": [
    "# 여기에 답안코드를 작성하세요.\n",
    "\n",
    "from sklearn.preprocessing import StandardScaler\n",
    "\n",
    "# StandardScaler 초기화\n",
    "scaler = StandardScaler()\n",
    "\n",
    "# 훈련 데이터셋 정규분포화 (fit_transform)\n",
    "x_train_scaled = scaler.fit_transform(x_train)\n",
    "\n",
    "# 테스트 데이터셋 표준화 (transform)\n",
    "x_test_scaled = scaler.transform(x_test)\n",
    "\n",
    "# 결과 확인\n",
    "print(\"Scaled x_train shape:\", x_train_scaled.shape)\n",
    "print(\"Scaled x_test shape:\", x_test_scaled.shape)\n"
   ]
  },
  {
   "cell_type": "markdown",
   "metadata": {
    "id": "--QXywTeqhLz"
   },
   "source": [
    "## **<span style=\"color:black\">8. 머신러닝 모델링 & 모델 성능평가 및 그래프 출력</span>**"
   ]
  },
  {
   "cell_type": "markdown",
   "metadata": {
    "id": "h4RetWq5qhLz"
   },
   "source": [
    "### 로지스틱 회귀 (LogisticRegression, 분류)"
   ]
  },
  {
   "cell_type": "markdown",
   "metadata": {
    "id": "g9Cfsz9GqhLz"
   },
   "source": [
    "<br>\n",
    "<font color=blue>8-1. LogisticRegression 모델을 만들고 학습을 진행하세요 (단, 규제강도C는 10으로 설정, 계산에 사용할 작업수 max_iter는 2000으로 설정하세요)</font>"
   ]
  },
  {
   "cell_type": "code",
   "execution_count": 43,
   "metadata": {
    "colab": {
     "base_uri": "https://localhost:8080/"
    },
    "executionInfo": {
     "elapsed": 1062,
     "status": "ok",
     "timestamp": 1731286667224,
     "user": {
      "displayName": "이예림 (겨울냥국)",
      "userId": "03592088159420229142"
     },
     "user_tz": -540
    },
    "id": "B1DPbqjaqhL0",
    "outputId": "b785ed11-2f36-4a41-daf9-39bdc4c154e3"
   },
   "outputs": [
    {
     "name": "stdout",
     "output_type": "stream",
     "text": [
      "모델 학습이 완료되었습니다.\n"
     ]
    }
   ],
   "source": [
    "# 여기에 답안코드를 작성하세요.\n",
    "\n",
    "from sklearn.linear_model import LogisticRegression\n",
    "\n",
    "# LogisticRegression 모델 초기화\n",
    "model = LogisticRegression(C=10, max_iter=2000, random_state=42)\n",
    "\n",
    "# 모델 학습\n",
    "model.fit(x_train_scaled, y_train)\n",
    "\n",
    "# 학습 완료 메시지\n",
    "print(\"모델 학습이 완료되었습니다.\")\n"
   ]
  },
  {
   "cell_type": "markdown",
   "metadata": {
    "id": "FErOlwIwqhL0"
   },
   "source": [
    "<br>\n",
    "<font color=blue>8-2. 위 모델의 성능을 평가하려고 합니다. y값을 예측하여 confusion matrix를 구하고 heatmap 그래프로 시각화하세요. 그리고 Scikit-learn의 classification_report를 활용하여 성능을 출력하세요.</font>"
   ]
  },
  {
   "cell_type": "code",
   "execution_count": 44,
   "metadata": {
    "colab": {
     "base_uri": "https://localhost:8080/",
     "height": 748
    },
    "executionInfo": {
     "elapsed": 1203,
     "status": "ok",
     "timestamp": 1731286690692,
     "user": {
      "displayName": "이예림 (겨울냥국)",
      "userId": "03592088159420229142"
     },
     "user_tz": -540
    },
    "id": "mJAhDUsFqhL0",
    "outputId": "72543028-945d-4676-c912-fda4141f51b8"
   },
   "outputs": [
    {
     "data": {
      "image/png": "[encoded data removed]",
      "text/plain": [
       "<Figure size 800x600 with 2 Axes>"
      ]
     },
     "metadata": {},
     "output_type": "display_data"
    },
    {
     "name": "stdout",
     "output_type": "stream",
     "text": [
      "Classification Report:\n",
      "               precision    recall  f1-score   support\n",
      "\n",
      "       False       0.98      1.00      0.99      1955\n",
      "        True       0.50      0.02      0.04        45\n",
      "\n",
      "    accuracy                           0.98      2000\n",
      "   macro avg       0.74      0.51      0.52      2000\n",
      "weighted avg       0.97      0.98      0.97      2000\n",
      "\n"
     ]
    }
   ],
   "source": [
    "# 여기에 답안코드를 작성하세요.\n",
    "\n",
    "import numpy as np\n",
    "import matplotlib.pyplot as plt\n",
    "import seaborn as sns\n",
    "from sklearn.metrics import confusion_matrix, classification_report\n",
    "\n",
    "# y_test에 대한 예측\n",
    "y_pred = model.predict(x_test_scaled)\n",
    "\n",
    "# 혼동 행렬 계산\n",
    "cm = confusion_matrix(y_test, y_pred)\n",
    "\n",
    "# 혼동 행렬을 시각화하는 히트맵\n",
    "plt.figure(figsize=(8, 6))\n",
    "sns.heatmap(cm, annot=True, fmt='d', cmap='Blues', xticklabels=['Not Y', 'Y'], yticklabels=['Not Y', 'Y'])\n",
    "plt.xlabel('Predicted')\n",
    "plt.ylabel('Actual')\n",
    "plt.title('Confusion Matrix')\n",
    "plt.show()\n",
    "\n",
    "# 성능 평가 출력\n",
    "report = classification_report(y_test, y_pred)\n",
    "print(\"Classification Report:\\n\", report)\n"
   ]
  },
  {
   "cell_type": "markdown",
   "metadata": {
    "id": "ds9VaQzSqhL0"
   },
   "source": [
    "<br>\n",
    "<font color=blue>8-3. DecisionTree 모델을 만들고 학습을 진행하세요. (단, max_depth는 10, random_state는 42로 설정)</font>"
   ]
  },
  {
   "cell_type": "code",
   "execution_count": 45,
   "metadata": {
    "colab": {
     "base_uri": "https://localhost:8080/"
    },
    "executionInfo": {
     "elapsed": 667,
     "status": "ok",
     "timestamp": 1731286727595,
     "user": {
      "displayName": "이예림 (겨울냥국)",
      "userId": "03592088159420229142"
     },
     "user_tz": -540
    },
    "id": "n4nJ_VlwqhL0",
    "outputId": "417431a2-500b-4bc7-8d1c-67ce34f36717"
   },
   "outputs": [
    {
     "name": "stdout",
     "output_type": "stream",
     "text": [
      "Decision Tree 모델 학습이 완료되었습니다.\n"
     ]
    }
   ],
   "source": [
    "# 여기에 답안코드를 작성하세요.\n",
    "\n",
    "from sklearn.tree import DecisionTreeClassifier\n",
    "\n",
    "# DecisionTree 모델 초기화\n",
    "dt_model = DecisionTreeClassifier(max_depth=10, random_state=42)\n",
    "\n",
    "# 모델 학습\n",
    "dt_model.fit(x_train_scaled, y_train)\n",
    "\n",
    "# 학습 완료 메시지\n",
    "print(\"Decision Tree 모델 학습이 완료되었습니다.\")\n"
   ]
  },
  {
   "cell_type": "markdown",
   "metadata": {
    "id": "-niBjPSEqhL0"
   },
   "source": [
    "<br>\n",
    "<font color=blue>8-4. RandomForest 모델을 만들고 학습을 진행하세요. (단, n_estimators=100, random_state=42 설정)</font>"
   ]
  },
  {
   "cell_type": "code",
   "execution_count": 46,
   "metadata": {
    "colab": {
     "base_uri": "https://localhost:8080/"
    },
    "executionInfo": {
     "elapsed": 2039,
     "status": "ok",
     "timestamp": 1731286776410,
     "user": {
      "displayName": "이예림 (겨울냥국)",
      "userId": "03592088159420229142"
     },
     "user_tz": -540
    },
    "id": "91dOSH5aqhL1",
    "outputId": "3a2345c3-1074-496b-8f7f-f69bd84a5196"
   },
   "outputs": [
    {
     "name": "stdout",
     "output_type": "stream",
     "text": [
      "Random Forest 모델 학습이 완료되었습니다.\n"
     ]
    }
   ],
   "source": [
    "# 여기에 답안코드를 작성하세요.\n",
    "\n",
    "from sklearn.ensemble import RandomForestClassifier\n",
    "\n",
    "# RandomForest 모델 초기화\n",
    "rf_model = RandomForestClassifier(n_estimators=100, random_state=42)\n",
    "\n",
    "# 모델 학습\n",
    "rf_model.fit(x_train_scaled, y_train)\n",
    "\n",
    "# 학습 완료 메시지\n",
    "print(\"Random Forest 모델 학습이 완료되었습니다.\")\n"
   ]
  },
  {
   "cell_type": "markdown",
   "metadata": {
    "id": "VjyEOWJrqhL1"
   },
   "source": [
    "<br>\n",
    "<font color=blue>8-5. XGBoost 모델을 만들고 학습을 진행하세요. (단, n_estimators=5 설정)</font>"
   ]
  },
  {
   "cell_type": "code",
   "execution_count": 47,
   "metadata": {
    "colab": {
     "base_uri": "https://localhost:8080/"
    },
    "executionInfo": {
     "elapsed": 1589,
     "status": "ok",
     "timestamp": 1731286797362,
     "user": {
      "displayName": "이예림 (겨울냥국)",
      "userId": "03592088159420229142"
     },
     "user_tz": -540
    },
    "id": "35FlU1Y_qhL1",
    "outputId": "23f09f2d-7c33-4f9c-ad8a-82839f85ca9e"
   },
   "outputs": [
    {
     "name": "stdout",
     "output_type": "stream",
     "text": [
      "XGBoost 모델 학습이 완료되었습니다.\n"
     ]
    }
   ],
   "source": [
    "# 여기에 답안코드를 작성하세요.\n",
    "\n",
    "import xgboost as xgb\n",
    "\n",
    "# XGBoost 모델 초기화\n",
    "xgb_model = xgb.XGBClassifier(n_estimators=5, random_state=42)\n",
    "\n",
    "# 모델 학습\n",
    "xgb_model.fit(x_train_scaled, y_train)\n",
    "\n",
    "# 학습 완료 메시지\n",
    "print(\"XGBoost 모델 학습이 완료되었습니다.\")\n"
   ]
  },
  {
   "cell_type": "markdown",
   "metadata": {
    "id": "eoRxzUHaqhL1"
   },
   "source": [
    "<br>\n",
    "<font color=blue>8-6. Light GBM 모델을 만들고 학습을 진행하세요. (단, n_estimators=3 설정)</font>"
   ]
  },
  {
   "cell_type": "code",
   "execution_count": 48,
   "metadata": {
    "colab": {
     "base_uri": "https://localhost:8080/"
    },
    "executionInfo": {
     "elapsed": 3285,
     "status": "ok",
     "timestamp": 1731286821203,
     "user": {
      "displayName": "이예림 (겨울냥국)",
      "userId": "03592088159420229142"
     },
     "user_tz": -540
    },
    "id": "DoJoHZaDqhL1",
    "outputId": "7b36138f-6a55-428c-9433-c478f9d8c792"
   },
   "outputs": [
    {
     "name": "stdout",
     "output_type": "stream",
     "text": [
      "[LightGBM] [Info] Number of positive: 179, number of negative: 7821\n",
      "[LightGBM] [Info] Auto-choosing col-wise multi-threading, the overhead of testing was 0.004174 seconds.\n",
      "You can set `force_col_wise=true` to remove the overhead.\n",
      "[LightGBM] [Info] Total Bins 802\n",
      "[LightGBM] [Info] Number of data points in the train set: 8000, number of used features: 28\n",
      "[LightGBM] [Info] [binary:BoostFromScore]: pavg=0.022375 -> initscore=-3.777182\n",
      "[LightGBM] [Info] Start training from score -3.777182\n",
      "LightGBM 모델 학습이 완료되었습니다.\n"
     ]
    }
   ],
   "source": [
    "# 여기에 답안코드를 작성하세요.\n",
    "\n",
    "import lightgbm as lgb\n",
    "\n",
    "# LightGBM 모델 초기화\n",
    "lgb_model = lgb.LGBMClassifier(n_estimators=3, random_state=42)\n",
    "\n",
    "# 모델 학습\n",
    "lgb_model.fit(x_train_scaled, y_train)\n",
    "\n",
    "# 학습 완료 메시지\n",
    "print(\"LightGBM 모델 학습이 완료되었습니다.\")\n"
   ]
  },
  {
   "cell_type": "markdown",
   "metadata": {
    "id": "KiKGA9TFqhL1"
   },
   "source": [
    "<br>\n",
    "<font color=blue>8-7. Linear Regression 모델을 연습으로 만들고 학습을 진행하세요.</font>"
   ]
  },
  {
   "cell_type": "code",
   "execution_count": 49,
   "metadata": {
    "colab": {
     "base_uri": "https://localhost:8080/"
    },
    "executionInfo": {
     "elapsed": 340,
     "status": "ok",
     "timestamp": 1731286868195,
     "user": {
      "displayName": "이예림 (겨울냥국)",
      "userId": "03592088159420229142"
     },
     "user_tz": -540
    },
    "id": "oB90ysgrqhL1",
    "outputId": "4fd9eac1-2cbd-4e6b-f235-0ebd0e7e51fd"
   },
   "outputs": [
    {
     "name": "stdout",
     "output_type": "stream",
     "text": [
      "Linear Regression 모델 학습이 완료되었습니다.\n",
      "회귀 계수: [2.08555133]\n",
      "절편: 0.2183460076045627\n"
     ]
    }
   ],
   "source": [
    "# 이 데이터로 연습하세요.\n",
    "x_data = np.array([1.6, 2.3, 3.5, 4.6]).reshape(-1,1)\n",
    "y_data = np.array([3.3, 5.5, 7.2, 9.9])\n",
    "\n",
    "import numpy as np\n",
    "from sklearn.linear_model import LinearRegression\n",
    "\n",
    "# Linear Regression 모델 초기화\n",
    "lr_model = LinearRegression()\n",
    "\n",
    "# 모델 학습\n",
    "lr_model.fit(x_data, y_data)\n",
    "\n",
    "# 학습 완료 메시지\n",
    "print(\"Linear Regression 모델 학습이 완료되었습니다.\")\n",
    "\n",
    "# 회귀 계수와 절편 출력\n",
    "print(\"회귀 계수:\", lr_model.coef_)\n",
    "print(\"절편:\", lr_model.intercept_)"
   ]
  },
  {
   "cell_type": "code",
   "execution_count": 50,
   "metadata": {
    "colab": {
     "base_uri": "https://localhost:8080/"
    },
    "executionInfo": {
     "elapsed": 337,
     "status": "ok",
     "timestamp": 1731286893800,
     "user": {
      "displayName": "이예림 (겨울냥국)",
      "userId": "03592088159420229142"
     },
     "user_tz": -540
    },
    "id": "OdVVI9e5qhL2",
    "outputId": "34f8ed3b-0ef0-4ec6-a359-e261392ae25f"
   },
   "outputs": [
    {
     "name": "stdout",
     "output_type": "stream",
     "text": [
      "Linear Regression 모델 학습이 완료되었습니다.\n",
      "회귀 계수: [-5.55994207e-03  1.15901958e-02  6.26633422e-03 -5.63807587e-03\n",
      "  6.50518034e-03 -1.27337488e-03  1.61893583e-02  2.49111232e-03\n",
      " -1.23821241e-04 -2.21567772e-03 -8.03082988e-03  2.08429416e-04\n",
      " -6.11966441e-03 -1.15891971e-02 -1.52513148e-02  5.15990491e-05\n",
      " -5.11741588e-03  2.68042177e-03  3.90494206e-03  1.18625686e-02\n",
      " -9.62191538e-03 -8.05505394e-04  1.88710137e-02  1.28296578e-02\n",
      "  1.42287648e-02  4.32874264e-04  2.96144494e-04  3.25135975e-03\n",
      "  2.94897199e-03  2.62901372e-03  2.87567651e-03  1.23539997e-02\n",
      "  5.18276764e-04  7.76817287e-03]\n",
      "절편: 0.022374999999912375\n"
     ]
    }
   ],
   "source": [
    "# 여기에 답안코드를 작성하세요.\n",
    "\n",
    "# Linear Regression 모델 초기화\n",
    "lr_model = LinearRegression()\n",
    "\n",
    "# 모델 학습\n",
    "lr_model.fit(x_train_scaled, y_train)\n",
    "\n",
    "# 학습 완료 메시지\n",
    "print(\"Linear Regression 모델 학습이 완료되었습니다.\")\n",
    "\n",
    "# 회귀 계수와 절편 출력\n",
    "print(\"회귀 계수:\", lr_model.coef_)\n",
    "print(\"절편:\", lr_model.intercept_)"
   ]
  },
  {
   "cell_type": "markdown",
   "metadata": {
    "id": "W-CTMFkNqhL2"
   },
   "source": [
    "<br>"
   ]
  },
  {
   "cell_type": "markdown",
   "metadata": {
    "id": "zz95TXrMqhL2"
   },
   "source": [
    "## **<span style=\"color:black\">9. 딥러닝 모델링 & 모델 성능평가 및 그래프 출력</span>**"
   ]
  },
  {
   "cell_type": "markdown",
   "metadata": {
    "id": "Z8YQcbY0qhL2"
   },
   "source": [
    "<br>\n",
    "<font color=blue>9-1. 아래 가이드대로 해지여부를 분류하는 딥러닝 모델을 만드세요.</font>"
   ]
  },
  {
   "cell_type": "markdown",
   "metadata": {
    "id": "YsdL4QtiqhL2"
   },
   "source": [
    "+ 첫번째 Hidden Layer : unit 64 , activation='relu'\n",
    "+ 두번째 Hidden Layer : unit 32 , activation='relu'\n",
    "+ 세번째 Hidden Layer : unit 16 , activation='relu'\n",
    "+ 각 Hidden Layer 마다 Dropout 0.2 비율로 되도록 하세요.\n",
    "+ EarlyStopping 콜백을 적용하고 ModelCheckpoint 콜백으로 validation performance가 좋은 모델을 best_model.keras 모델로 저장하세요.\n",
    "+ batch_size는 10, epochs는 10으로 설정하세요."
   ]
  },
  {
   "cell_type": "code",
   "execution_count": 51,
   "metadata": {
    "colab": {
     "base_uri": "https://localhost:8080/",
     "height": 876
    },
    "executionInfo": {
     "elapsed": 39469,
     "status": "ok",
     "timestamp": 1731287046034,
     "user": {
      "displayName": "이예림 (겨울냥국)",
      "userId": "03592088159420229142"
     },
     "user_tz": -540
    },
    "id": "OeS5KzAqqhL2",
    "outputId": "24310d36-980a-4f9e-d360-01b9b289185c"
   },
   "outputs": [
    {
     "name": "stdout",
     "output_type": "stream",
     "text": [
      "Epoch 1/10\n",
      "\u001b[1m640/640\u001b[0m \u001b[32m━━━━━━━━━━━━━━━━━━━━\u001b[0m\u001b[37m\u001b[0m \u001b[1m5s\u001b[0m 4ms/step - loss: 0.2727 - val_loss: 0.0244\n",
      "Epoch 2/10\n",
      "\u001b[1m640/640\u001b[0m \u001b[32m━━━━━━━━━━━━━━━━━━━━\u001b[0m\u001b[37m\u001b[0m \u001b[1m2s\u001b[0m 3ms/step - loss: 0.0362 - val_loss: 0.0207\n",
      "Epoch 3/10\n",
      "\u001b[1m640/640\u001b[0m \u001b[32m━━━━━━━━━━━━━━━━━━━━\u001b[0m\u001b[37m\u001b[0m \u001b[1m1s\u001b[0m 2ms/step - loss: 0.0297 - val_loss: 0.0205\n",
      "Epoch 4/10\n",
      "\u001b[1m640/640\u001b[0m \u001b[32m━━━━━━━━━━━━━━━━━━━━\u001b[0m\u001b[37m\u001b[0m \u001b[1m3s\u001b[0m 2ms/step - loss: 0.0313 - val_loss: 0.0205\n",
      "Epoch 5/10\n",
      "\u001b[1m640/640\u001b[0m \u001b[32m━━━━━━━━━━━━━━━━━━━━\u001b[0m\u001b[37m\u001b[0m \u001b[1m1s\u001b[0m 2ms/step - loss: 0.0229 - val_loss: 0.0201\n",
      "Epoch 6/10\n",
      "\u001b[1m640/640\u001b[0m \u001b[32m━━━━━━━━━━━━━━━━━━━━\u001b[0m\u001b[37m\u001b[0m \u001b[1m3s\u001b[0m 3ms/step - loss: 0.0271 - val_loss: 0.0202\n",
      "Epoch 7/10\n",
      "\u001b[1m640/640\u001b[0m \u001b[32m━━━━━━━━━━━━━━━━━━━━\u001b[0m\u001b[37m\u001b[0m \u001b[1m2s\u001b[0m 3ms/step - loss: 0.0217 - val_loss: 0.0203\n",
      "Epoch 8/10\n",
      "\u001b[1m640/640\u001b[0m \u001b[32m━━━━━━━━━━━━━━━━━━━━\u001b[0m\u001b[37m\u001b[0m \u001b[1m2s\u001b[0m 2ms/step - loss: 0.0221 - val_loss: 0.0200\n",
      "Epoch 9/10\n",
      "\u001b[1m640/640\u001b[0m \u001b[32m━━━━━━━━━━━━━━━━━━━━\u001b[0m\u001b[37m\u001b[0m \u001b[1m1s\u001b[0m 2ms/step - loss: 0.0284 - val_loss: 0.0200\n",
      "Epoch 10/10\n",
      "\u001b[1m640/640\u001b[0m \u001b[32m━━━━━━━━━━━━━━━━━━━━\u001b[0m\u001b[37m\u001b[0m \u001b[1m3s\u001b[0m 2ms/step - loss: 0.0197 - val_loss: 0.0201\n",
      "\u001b[1m63/63\u001b[0m \u001b[32m━━━━━━━━━━━━━━━━━━━━\u001b[0m\u001b[37m\u001b[0m \u001b[1m0s\u001b[0m 1ms/step - loss: 0.0217\n",
      "테스트 손실: 0.021527208387851715\n"
     ]
    },
    {
     "data": {
      "image/png": "[encoded data removed]",
      "text/plain": [
       "<Figure size 640x480 with 1 Axes>"
      ]
     },
     "metadata": {},
     "output_type": "display_data"
    }
   ],
   "source": [
    "# 여기에 답안코드를 작성하세요.\n",
    "\n",
    "import numpy as np\n",
    "import matplotlib.pyplot as plt\n",
    "from tensorflow.keras.models import Sequential\n",
    "from tensorflow.keras.layers import Dense, Dropout\n",
    "from tensorflow.keras.callbacks import EarlyStopping, ModelCheckpoint\n",
    "from sklearn.preprocessing import StandardScaler\n",
    "\n",
    "# 데이터 정규화\n",
    "scaler = StandardScaler()\n",
    "x_train_scaled = scaler.fit_transform(x_train)\n",
    "x_test_scaled = scaler.transform(x_test)\n",
    "\n",
    "# 모델 정의\n",
    "model = Sequential()\n",
    "model.add(Dense(64, activation='relu', input_shape=(x_train_scaled.shape[1],)))\n",
    "model.add(Dropout(0.2))\n",
    "model.add(Dense(32, activation='relu'))\n",
    "model.add(Dropout(0.2))\n",
    "model.add(Dense(16, activation='relu'))\n",
    "model.add(Dropout(0.2))\n",
    "model.add(Dense(1))  # 회귀 문제를 가정\n",
    "\n",
    "# 모델 컴파일\n",
    "model.compile(optimizer='adam', loss='mean_squared_error')\n",
    "\n",
    "# 콜백 정의\n",
    "early_stopping = EarlyStopping(monitor='val_loss', patience=5, restore_best_weights=True)\n",
    "model_checkpoint = ModelCheckpoint('best_model.keras', monitor='val_loss', save_best_only=True)\n",
    "\n",
    "# 모델 학습\n",
    "history = model.fit(x_train_scaled, y_train,\n",
    "                    validation_split=0.2,\n",
    "                    batch_size=10,\n",
    "                    epochs=10,\n",
    "                    callbacks=[early_stopping, model_checkpoint])\n",
    "\n",
    "# 모델 성능 평가\n",
    "loss = model.evaluate(x_test_scaled, y_test)\n",
    "print(\"테스트 손실:\", loss)\n",
    "\n",
    "# 학습 과정 시각화\n",
    "plt.plot(history.history['loss'], label='Train Loss')\n",
    "plt.plot(history.history['val_loss'], label='Validation Loss')\n",
    "plt.title('Model Loss')\n",
    "plt.ylabel('Loss')\n",
    "plt.xlabel('Epoch')\n",
    "plt.legend()\n",
    "plt.show()\n"
   ]
  },
  {
   "cell_type": "markdown",
   "metadata": {
    "id": "Vb84gzlAqhL2"
   },
   "source": [
    "<br>\n",
    "<font color=blue>9-2. y_train, y_test를 원핫 인코딩 후 다중 분류하는 딥러닝 모델을 만드세요. 9-1과 동일한 가이드 적용</font>"
   ]
  },
  {
   "cell_type": "code",
   "execution_count": 60,
   "metadata": {
    "colab": {
     "base_uri": "https://localhost:8080/",
     "height": 929
    },
    "executionInfo": {
     "elapsed": 35692,
     "status": "ok",
     "timestamp": 1731308416629,
     "user": {
      "displayName": "이예림 (겨울냥국)",
      "userId": "03592088159420229142"
     },
     "user_tz": -540
    },
    "id": "UYdWK01zqhL2",
    "outputId": "81774b00-9df1-46d2-b6e8-501b8fc4ea73"
   },
   "outputs": [
    {
     "name": "stdout",
     "output_type": "stream",
     "text": [
      "Epoch 1/10\n",
      "\u001b[1m800/800\u001b[0m \u001b[32m━━━━━━━━━━━━━━━━━━━━\u001b[0m\u001b[37m\u001b[0m \u001b[1m7s\u001b[0m 5ms/step - accuracy: 0.9141 - loss: 0.2324 - val_accuracy: 0.9775 - val_loss: 0.0979\n",
      "Epoch 2/10\n",
      "\u001b[1m800/800\u001b[0m \u001b[32m━━━━━━━━━━━━━━━━━━━━\u001b[0m\u001b[37m\u001b[0m \u001b[1m3s\u001b[0m 3ms/step - accuracy: 0.9782 - loss: 0.1045 - val_accuracy: 0.9770 - val_loss: 0.0918\n",
      "Epoch 3/10\n",
      "\u001b[1m800/800\u001b[0m \u001b[32m━━━━━━━━━━━━━━━━━━━━\u001b[0m\u001b[37m\u001b[0m \u001b[1m2s\u001b[0m 3ms/step - accuracy: 0.9749 - loss: 0.1001 - val_accuracy: 0.9775 - val_loss: 0.0899\n",
      "Epoch 4/10\n",
      "\u001b[1m800/800\u001b[0m \u001b[32m━━━━━━━━━━━━━━━━━━━━\u001b[0m\u001b[37m\u001b[0m \u001b[1m2s\u001b[0m 2ms/step - accuracy: 0.9786 - loss: 0.0932 - val_accuracy: 0.9770 - val_loss: 0.0898\n",
      "Epoch 5/10\n",
      "\u001b[1m800/800\u001b[0m \u001b[32m━━━━━━━━━━━━━━━━━━━━\u001b[0m\u001b[37m\u001b[0m \u001b[1m2s\u001b[0m 2ms/step - accuracy: 0.9768 - loss: 0.0956 - val_accuracy: 0.9770 - val_loss: 0.0934\n",
      "Epoch 6/10\n",
      "\u001b[1m800/800\u001b[0m \u001b[32m━━━━━━━━━━━━━━━━━━━━\u001b[0m\u001b[37m\u001b[0m \u001b[1m4s\u001b[0m 5ms/step - accuracy: 0.9770 - loss: 0.0914 - val_accuracy: 0.9770 - val_loss: 0.0960\n",
      "Epoch 7/10\n",
      "\u001b[1m800/800\u001b[0m \u001b[32m━━━━━━━━━━━━━━━━━━━━\u001b[0m\u001b[37m\u001b[0m \u001b[1m4s\u001b[0m 3ms/step - accuracy: 0.9801 - loss: 0.0860 - val_accuracy: 0.9770 - val_loss: 0.0914\n",
      "Epoch 8/10\n",
      "\u001b[1m800/800\u001b[0m \u001b[32m━━━━━━━━━━━━━━━━━━━━\u001b[0m\u001b[37m\u001b[0m \u001b[1m2s\u001b[0m 2ms/step - accuracy: 0.9779 - loss: 0.0898 - val_accuracy: 0.9775 - val_loss: 0.0880\n",
      "Epoch 9/10\n",
      "\u001b[1m800/800\u001b[0m \u001b[32m━━━━━━━━━━━━━━━━━━━━\u001b[0m\u001b[37m\u001b[0m \u001b[1m3s\u001b[0m 3ms/step - accuracy: 0.9806 - loss: 0.0834 - val_accuracy: 0.9780 - val_loss: 0.0920\n",
      "Epoch 10/10\n",
      "\u001b[1m800/800\u001b[0m \u001b[32m━━━━━━━━━━━━━━━━━━━━\u001b[0m\u001b[37m\u001b[0m \u001b[1m2s\u001b[0m 2ms/step - accuracy: 0.9779 - loss: 0.0859 - val_accuracy: 0.9780 - val_loss: 0.0941\n",
      "\u001b[1m63/63\u001b[0m \u001b[32m━━━━━━━━━━━━━━━━━━━━\u001b[0m\u001b[37m\u001b[0m \u001b[1m0s\u001b[0m 3ms/step - accuracy: 0.9771 - loss: 0.0857\n",
      "테스트 손실: 0.08799031376838684\n",
      "테스트 정확도: 0.9775000214576721\n"
     ]
    },
    {
     "data": {
      "image/png": "[encoded data removed]",
      "text/plain": [
       "<Figure size 1200x500 with 2 Axes>"
      ]
     },
     "metadata": {},
     "output_type": "display_data"
    }
   ],
   "source": [
    "import numpy as np\n",
    "import matplotlib.pyplot as plt\n",
    "from tensorflow.keras.models import Sequential\n",
    "from tensorflow.keras.layers import Dense, Dropout\n",
    "from tensorflow.keras.callbacks import EarlyStopping, ModelCheckpoint\n",
    "from sklearn.preprocessing import StandardScaler\n",
    "from sklearn.model_selection import train_test_split\n",
    "\n",
    "# 데이터 분할\n",
    "x_train, x_test, y_train, y_test = train_test_split(x, y, test_size=0.2, stratify=y, random_state=42)\n",
    "\n",
    "# 데이터 정규화\n",
    "scaler = StandardScaler()\n",
    "x_train_scaled = scaler.fit_transform(x_train)\n",
    "x_test_scaled = scaler.transform(x_test)\n",
    "\n",
    "# 모델 정의\n",
    "model = Sequential()\n",
    "model.add(Dense(64, activation='relu', input_shape=(x_train_scaled.shape[1],)))\n",
    "model.add(Dropout(0.2))\n",
    "model.add(Dense(32, activation='relu'))\n",
    "model.add(Dropout(0.2))\n",
    "model.add(Dense(16, activation='relu'))\n",
    "model.add(Dropout(0.2))\n",
    "model.add(Dense(len(np.unique(y)), activation='softmax'))  # 다중 분류를 위한 softmax 활성화 함수\n",
    "\n",
    "# 모델 컴파일\n",
    "model.compile(optimizer='adam', loss='sparse_categorical_crossentropy', metrics=['accuracy'])\n",
    "\n",
    "# 콜백 정의\n",
    "early_stopping = EarlyStopping(monitor='val_loss', patience=5, restore_best_weights=True)\n",
    "model_checkpoint = ModelCheckpoint('best_model.keras', monitor='val_loss', save_best_only=True)\n",
    "\n",
    "# 모델 학습\n",
    "history = model.fit(x_train_scaled, y_train,\n",
    "                    batch_size=10,\n",
    "                    epochs=10,\n",
    "                    callbacks=[early_stopping, model_checkpoint],\n",
    "                    validation_data=(x_test_scaled, y_test),\n",
    "                    verbose=1)\n",
    "\n",
    "# 모델 성능 평가\n",
    "loss, accuracy = model.evaluate(x_test_scaled, y_test)\n",
    "print(\"테스트 손실:\", loss)\n",
    "print(\"테스트 정확도:\", accuracy)\n",
    "\n",
    "# 학습 과정 시각화\n",
    "plt.figure(figsize=(12, 5))\n",
    "\n",
    "# 손실 그래프\n",
    "plt.subplot(1, 2, 1)\n",
    "plt.plot(history.history['loss'], label='Train Loss')\n",
    "plt.plot(history.history['val_loss'], label='Validation Loss')\n",
    "plt.title('Model Loss')\n",
    "plt.ylabel('Loss')\n",
    "plt.xlabel('Epochs')\n",
    "plt.legend()\n",
    "plt.grid()\n",
    "\n",
    "# 정확도 그래프\n",
    "plt.subplot(1, 2, 2)\n",
    "plt.plot(history.history['accuracy'], label='Train Accuracy')\n",
    "plt.plot(history.history['val_accuracy'], label='Validation Accuracy')\n",
    "plt.title('Model Accuracy')\n",
    "plt.ylabel('Accuracy')\n",
    "plt.xlabel('Epochs')\n",
    "plt.legend()\n",
    "plt.grid()\n",
    "\n",
    "plt.tight_layout()\n",
    "plt.show()\n"
   ]
  },
  {
   "cell_type": "code",
   "execution_count": null,
   "metadata": {
    "id": "4_OJ8ci_qhL3"
   },
   "outputs": [],
   "source": [
    "# 참고\n",
    "# Y 레이블 One-Hot-Encoding 되지 않았으면 loss='sparse_categorical_crossentropy' 사용\n",
    "# model.compile(optimizer='adam', loss='sparse_categorical_crossentropy',metrics=['acc'])\n",
    "# history = model.fit(X_train, y_train, batch_size=batch_size, epochs=epochs, callbacks=[es,mc], validation_data=(X_test, y_test), verbose=1)"
   ]
  },
  {
   "cell_type": "markdown",
   "metadata": {
    "id": "ltL7lSUJqhL3"
   },
   "source": [
    "<br>\n",
    "<font color=blue>9-3. 모델 성능을 평가해서 그래프로 표현하세요. 학습 정확도와 검증정확도를 그래프로 표시하고 xlabel에는 Epochs, ylabel에는 Accuracy, 범례에는 Train과 Validation으로 표시하세요..</font>"
   ]
  },
  {
   "cell_type": "code",
   "execution_count": 61,
   "metadata": {
    "colab": {
     "base_uri": "https://localhost:8080/",
     "height": 487
    },
    "executionInfo": {
     "elapsed": 489,
     "status": "ok",
     "timestamp": 1731308449753,
     "user": {
      "displayName": "이예림 (겨울냥국)",
      "userId": "03592088159420229142"
     },
     "user_tz": -540
    },
    "id": "hKi2Q2zhqhL3",
    "outputId": "097215ff-686c-4b5b-fde1-b1334cc1dc53"
   },
   "outputs": [
    {
     "data": {
      "image/png": "[encoded data removed]",
      "text/plain": [
       "<Figure size 1000x500 with 1 Axes>"
      ]
     },
     "metadata": {},
     "output_type": "display_data"
    }
   ],
   "source": [
    "# 여기에 답안코드를 작성하세요.\n",
    "\n",
    "import matplotlib.pyplot as plt\n",
    "\n",
    "# 학습 과정 시각화\n",
    "plt.figure(figsize=(10, 5))\n",
    "\n",
    "# 정확도 그래프\n",
    "plt.plot(history.history['accuracy'], label='Train Accuracy')\n",
    "plt.plot(history.history['val_accuracy'], label='Validation Accuracy')\n",
    "plt.title('Model Accuracy')\n",
    "plt.xlabel('Epochs')\n",
    "plt.ylabel('Accuracy')\n",
    "plt.legend()\n",
    "plt.grid()\n",
    "plt.show()\n"
   ]
  },
  {
   "cell_type": "markdown",
   "metadata": {
    "id": "G1LRco_5qhL3"
   },
   "source": [
    "<br>\n",
    "<font color=blue>9-4. 모델 성능을 평가해서 그래프로 표현하세요. 학습 손실과 검증 손실을 그래프로 표시하고 xlabel에는 Epochs, ylabel에는 Loss, 범례에는 Train Loss와 Validation Loss로 표시하세요.</font>"
   ]
  },
  {
   "cell_type": "code",
   "execution_count": 62,
   "metadata": {
    "colab": {
     "base_uri": "https://localhost:8080/",
     "height": 487
    },
    "executionInfo": {
     "elapsed": 744,
     "status": "ok",
     "timestamp": 1731308453655,
     "user": {
      "displayName": "이예림 (겨울냥국)",
      "userId": "03592088159420229142"
     },
     "user_tz": -540
    },
    "id": "aHXNNFu_qhL3",
    "outputId": "ce67e346-b53e-4706-a6e8-d3bede06f3b0"
   },
   "outputs": [
    {
     "data": {
      "image/png": "[encoded data removed]",
      "text/plain": [
       "<Figure size 1000x500 with 1 Axes>"
      ]
     },
     "metadata": {},
     "output_type": "display_data"
    }
   ],
   "source": [
    "# 여기에 답안코드를 작성하세요.\n",
    "\n",
    "import matplotlib.pyplot as plt\n",
    "\n",
    "# 학습 과정 시각화\n",
    "plt.figure(figsize=(10, 5))\n",
    "\n",
    "# 손실 그래프\n",
    "plt.plot(history.history['loss'], label='Train Loss')\n",
    "plt.plot(history.history['val_loss'], label='Validation Loss')\n",
    "plt.title('Model Loss')\n",
    "plt.xlabel('Epochs')\n",
    "plt.ylabel('Loss')\n",
    "plt.legend()\n",
    "plt.grid()\n",
    "plt.show()\n"
   ]
  },
  {
   "cell_type": "markdown",
   "metadata": {
    "id": "pMYv28KEqhL3"
   },
   "source": [
    "<br>\n",
    "<font color=blue>9-5. y값을 예측하여 y_test_pred에 저장하고 정확도를 출력하세요..</font>"
   ]
  },
  {
   "cell_type": "code",
   "execution_count": 63,
   "metadata": {
    "colab": {
     "base_uri": "https://localhost:8080/"
    },
    "executionInfo": {
     "elapsed": 750,
     "status": "ok",
     "timestamp": 1731308457084,
     "user": {
      "displayName": "이예림 (겨울냥국)",
      "userId": "03592088159420229142"
     },
     "user_tz": -540
    },
    "id": "81vxu4q7qhL3",
    "outputId": "25a4dc9a-3bd5-44f4-d948-fe4dd3439572"
   },
   "outputs": [
    {
     "name": "stdout",
     "output_type": "stream",
     "text": [
      "\u001b[1m63/63\u001b[0m \u001b[32m━━━━━━━━━━━━━━━━━━━━\u001b[0m\u001b[37m\u001b[0m \u001b[1m0s\u001b[0m 2ms/step\n",
      "테스트 데이터에 대한 정확도: 0.9775\n"
     ]
    }
   ],
   "source": [
    "# 여기에 답안코드를 작성하세요.\n",
    "\n",
    "# y_test에 대한 예측\n",
    "y_test_pred = model.predict(x_test_scaled)\n",
    "\n",
    "# 예측 결과를 원핫 인코딩에서 클래스 인덱스로 변환\n",
    "y_test_pred_classes = np.argmax(y_test_pred, axis=1)\n",
    "\n",
    "# 실제 y_test를 원핫 인코딩에서 클래스 인덱스로 변환\n",
    "y_test_classes = np.argmax(y_test_encoded, axis=1)\n",
    "\n",
    "# 정확도 계산\n",
    "accuracy = np.sum(y_test_pred_classes == y_test_classes) / len(y_test_classes)\n",
    "print(\"테스트 데이터에 대한 정확도:\", accuracy)\n"
   ]
  }
 ],
 "metadata": {
  "colab": {
   "provenance": [],
   "toc_visible": true
  },
  "kernelspec": {
   "display_name": "Python 3",
   "name": "python3"
  },
  "language_info": {
   "codemirror_mode": {
    "name": "ipython",
    "version": 3
   },
   "file_extension": ".py",
   "mimetype": "text/x-python",
   "name": "python",
   "nbconvert_exporter": "python",
   "pygments_lexer": "ipython3",
   "version": "3.10.9"
  }
 },
 "nbformat": 4,
 "nbformat_minor": 0
}
